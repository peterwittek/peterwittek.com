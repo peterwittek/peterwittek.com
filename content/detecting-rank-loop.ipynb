{
 "metadata": {
  "name": "",
  "signature": "sha256:7184281ccfaecc3a7836a50dc5bac94a6e871d18c6d2234123aa85e9631a0a88"
 },
 "nbformat": 3,
 "nbformat_minor": 0,
 "worksheets": [
  {
   "cells": [
    {
     "cell_type": "markdown",
     "metadata": {},
     "source": [
      "The [NPA hierarchy of semidefinite relaxations](http://dx.doi.org/10.1088/1367-2630/10/7/073013) often converges at a low level. If this happens, there will be a rank loop in the solution matrix: a part of the solution corresponding to a moment matrix of lower order will have the same rank as the complete matrix. With the upcoming release 1.7 of [Ncpol2sdpa](http://peterwittek.github.io/ncpol2sdpa/), it is possible to calculate the ranks of increasing submatrices of the solution matrix, corresponding to increasing orders of the relaxation. Since the generated SDP is solved by numerical methods, the small inaccuracies often block the detection of a rank loop. Here we detail how we can overcome this problem, using the [CHSH inequality](https://en.wikipedia.org/wiki/CHSH_inequality) in the probability picture as an example.\n",
      "\n",
      "First, import everything from Ncpol2sdpa:"
     ]
    },
    {
     "cell_type": "code",
     "collapsed": false,
     "input": [
      "from ncpol2sdpa import *"
     ],
     "language": "python",
     "metadata": {},
     "outputs": [],
     "prompt_number": 1
    },
    {
     "cell_type": "markdown",
     "metadata": {},
     "source": [
      "Next, we set up the CHSH problem:"
     ]
    },
    {
     "cell_type": "code",
     "collapsed": false,
     "input": [
      "A_configuration = [2, 2]\n",
      "B_configuration = [2, 2]\n",
      "I = [[ 0,   -1,    0 ],\n",
      "     [-1,    1,    1 ],\n",
      "     [ 0,    1,   -1 ]]\n",
      "A = generate_measurements(A_configuration, 'A')\n",
      "B = generate_measurements(B_configuration, 'B')\n",
      "substitutions = projective_measurement_constraints(A, B)\n",
      "objective = define_objective_with_I(I, A, B)"
     ],
     "language": "python",
     "metadata": {},
     "outputs": [],
     "prompt_number": 2
    },
    {
     "cell_type": "markdown",
     "metadata": {},
     "source": [
      "To detect a rank loop, we will need a relatively high level relaxation. We obtain a level-5 relaxation:"
     ]
    },
    {
     "cell_type": "code",
     "collapsed": false,
     "input": [
      "level = 5\n",
      "sdpRelaxation = SdpRelaxation(flatten([A, B]))\n",
      "sdpRelaxation.get_relaxation(level, objective=objective,\n",
      "                             substitutions=substitutions)"
     ],
     "language": "python",
     "metadata": {},
     "outputs": [],
     "prompt_number": 3
    },
    {
     "cell_type": "markdown",
     "metadata": {},
     "source": [
      "Assuming that [SDPA](http://sdpa.sourceforge.net/) is in the path, we solve this relaxation and try to find a rank loop:"
     ]
    },
    {
     "cell_type": "code",
     "collapsed": false,
     "input": [
      "primal, dual, x_sol, y_sol = solve_sdp(sdpRelaxation, solutionmatrix=True)\n",
      "print find_rank_loop(sdpRelaxation, x_sol[0])"
     ],
     "language": "python",
     "metadata": {},
     "outputs": [
      {
       "output_type": "stream",
       "stream": "stdout",
       "text": [
        "[5, 13, 23, 29, 43]\n"
       ]
      }
     ],
     "prompt_number": 4
    },
    {
     "cell_type": "markdown",
     "metadata": {},
     "source": [
      "This is not looking good. This list contains the ranks of the increasing submatrices of the solution matrix. Not all is lost, though. The arbitrary-precision flavour of SDPA, [SDPA-GMP](http://sourceforge.net/projects/sdpa/files/sdpa-gmp/) can overcome the numerical errors, given sufficient amount of time. If the executable is in the path, we can pass the name of the solver to the ``solve_sdp`` function:"
     ]
    },
    {
     "cell_type": "code",
     "collapsed": false,
     "input": [
      "primal, dual, x_sol, y_sol = solve_sdp(sdpRelaxation, solutionmatrix=True, solverexecutable=\"sdpa_gmp\")\n",
      "print find_rank_loop(sdpRelaxation, x_sol[0])"
     ],
     "language": "python",
     "metadata": {},
     "outputs": [
      {
       "output_type": "stream",
       "stream": "stdout",
       "text": [
        "[5, 11, 12, 18, 17]\n"
       ]
      }
     ],
     "prompt_number": 5
    },
    {
     "cell_type": "markdown",
     "metadata": {},
     "source": [
      "Evidently, the rank loop is there between levels 4 and 5."
     ]
    }
   ],
   "metadata": {}
  }
 ]
}