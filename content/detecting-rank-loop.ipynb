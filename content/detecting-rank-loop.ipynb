{
 "cells": [
  {
   "cell_type": "markdown",
   "metadata": {},
   "source": [
    "The [NPA hierarchy of semidefinite relaxations](http://dx.doi.org/10.1088/1367-2630/10/7/073013) often converges at a low level. If this happens, there will be a rank loop in the solution matrix: a part of the solution corresponding to a moment matrix of lower order will have the same rank as the complete matrix. With the upcoming release 1.7 of [Ncpol2sdpa](http://peterwittek.github.io/ncpol2sdpa/), it is possible to calculate the ranks of increasing submatrices of the solution matrix, corresponding to increasing orders of the relaxation. Since the generated SDP is solved by numerical methods, the small inaccuracies often block the detection of a rank loop. Here we detail how we can overcome this problem, using the [CHSH inequality](https://en.wikipedia.org/wiki/CHSH_inequality) in the probability picture as an example.\n",
    "\n",
    "First, import everything from Ncpol2sdpa:"
   ]
  },
  {
   "cell_type": "code",
   "execution_count": 2,
   "metadata": {
    "collapsed": false
   },
   "outputs": [],
   "source": [
    "from ncpol2sdpa import *"
   ]
  },
  {
   "cell_type": "markdown",
   "metadata": {},
   "source": [
    "Next, we set up the CHSH problem:"
   ]
  },
  {
   "cell_type": "code",
   "execution_count": 3,
   "metadata": {
    "collapsed": false
   },
   "outputs": [],
   "source": [
    "A_configuration = [2, 2]\n",
    "B_configuration = [2, 2]\n",
    "I = [[ 0,   -1,    0 ],\n",
    "     [-1,    1,    1 ],\n",
    "     [ 0,    1,   -1 ]]\n",
    "A = generate_measurements(A_configuration, 'A')\n",
    "B = generate_measurements(B_configuration, 'B')\n",
    "substitutions = projective_measurement_constraints(A, B)\n",
    "objective = define_objective_with_I(I, A, B)"
   ]
  },
  {
   "cell_type": "markdown",
   "metadata": {},
   "source": [
    "To detect a rank loop, we will need a relatively high level relaxation. We obtain a level-5 relaxation:"
   ]
  },
  {
   "cell_type": "code",
   "execution_count": 4,
   "metadata": {
    "collapsed": false
   },
   "outputs": [],
   "source": [
    "level = 5\n",
    "sdpRelaxation = SdpRelaxation(flatten([A, B]))\n",
    "sdpRelaxation.get_relaxation(level, objective=objective,\n",
    "                             substitutions=substitutions)"
   ]
  },
  {
   "cell_type": "markdown",
   "metadata": {},
   "source": [
    "Assuming that [SDPA](http://sdpa.sourceforge.net/) is in the path, we solve this relaxation and try to find a rank loop:"
   ]
  },
  {
   "cell_type": "code",
   "execution_count": 5,
   "metadata": {
    "collapsed": false
   },
   "outputs": [
    {
     "name": "stdout",
     "output_type": "stream",
     "text": [
      "[5, 13, 23, 40, 61]\n"
     ]
    }
   ],
   "source": [
    "sdpRelaxation.solve()\n",
    "print(sdpRelaxation.find_solution_ranks())"
   ]
  },
  {
   "cell_type": "markdown",
   "metadata": {},
   "source": [
    "This is not looking good. This list contains the ranks of the increasing submatrices of the solution matrix. Not all is lost, though. The arbitrary-precision flavour of SDPA, [SDPA-GMP](http://sourceforge.net/projects/sdpa/files/sdpa-gmp/) can overcome the numerical errors, given sufficient amount of time. If the executable is in the path, we can pass the name of the solver to the ``solve_sdp`` function:"
   ]
  },
  {
   "cell_type": "code",
   "execution_count": 5,
   "metadata": {
    "collapsed": false
   },
   "outputs": [
    {
     "name": "stdout",
     "output_type": "stream",
     "text": [
      "[5, 11, 12, 18, 17]\n"
     ]
    }
   ],
   "source": [
    "sdpRelaxation.solve(solver='sdpa',\n",
    "  solverparameters={\"executable\":\"sdpa_gmp\", \"paramsfile\"=\"params.gmp.sdpa\"})\n",
    "print(sdpRelaxation.find_solution_ranks())"
   ]
  },
  {
   "cell_type": "markdown",
   "metadata": {},
   "source": [
    "Evidently, the rank loop is there between levels 4 and 5."
   ]
  }
 ],
 "metadata": {
  "kernelspec": {
   "display_name": "Python 3",
   "language": "python",
   "name": "python3"
  },
  "language_info": {
   "codemirror_mode": {
    "name": "ipython",
    "version": 3
   },
   "file_extension": ".py",
   "mimetype": "text/x-python",
   "name": "python",
   "nbconvert_exporter": "python",
   "pygments_lexer": "ipython3",
   "version": "3.5.0"
  }
 },
 "nbformat": 4,
 "nbformat_minor": 0
}
