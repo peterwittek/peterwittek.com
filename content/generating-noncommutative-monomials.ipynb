{
 "metadata": {
  "name": "",
  "signature": "sha256:c303731ea08f02eb7ba19572b3a793097079ce7d496042fca2c6de1e1935ea1d"
 },
 "nbformat": 3,
 "nbformat_minor": 0,
 "worksheets": [
  {
   "cells": [
    {
     "cell_type": "markdown",
     "metadata": {},
     "source": [
      "We are not spoilt for choices to work with polynomials of noncommutative variables. [Yalmip](http://users.isy.liu.se/johanl/yalmip/) has undocumented noncommutative functionality for MATLAB. While the rest of the toolbox is regularly updated, the noncommutative parts are neglected. [NCAlgebra](http://www.math.ucsd.edu/~ncalg/) is a package for Mathematica, but its semidefinite programming functions do not seem to be working, and those are the ones we need. [SymPy](http://sympy.org/), a Python library for symbolic mathematics, has basic functionality for noncommutative variables, so I took a closer look whether it is able to generate monomials of arbitrary order. Given that this is an open source solution, I would love to see it working. The discussion below uses SymPy 0.7.5.\n",
      "\n",
      "To start with, we have to import the library:"
     ]
    },
    {
     "cell_type": "code",
     "collapsed": false,
     "input": [
      "from sympy import *\n",
      "init_printing() "
     ],
     "language": "python",
     "metadata": {},
     "outputs": [],
     "prompt_number": 1
    },
    {
     "cell_type": "markdown",
     "metadata": {},
     "source": [
      "Defining an arbitrary number of noncommutative variables is easy:"
     ]
    },
    {
     "cell_type": "code",
     "collapsed": false,
     "input": [
      "a=symbols('a0:2', commutative=False)"
     ],
     "language": "python",
     "metadata": {},
     "outputs": [],
     "prompt_number": 2
    },
    {
     "cell_type": "markdown",
     "metadata": {},
     "source": [
      "Behold the result:"
     ]
    },
    {
     "cell_type": "code",
     "collapsed": false,
     "input": [
      "simplify(a[0]*a[1] + a[1]*a[0])"
     ],
     "language": "python",
     "metadata": {},
     "outputs": [
      {
       "latex": [
        "$$a_{0} a_{1} + a_{1} a_{0}$$"
       ],
       "metadata": {},
       "output_type": "pyout",
       "png": "[encoded data removed]",
       "prompt_number": 3,
       "text": [
        "a\u2080\u22c5a\u2081 + a\u2081\u22c5a\u2080"
       ]
      }
     ],
     "prompt_number": 3
    },
    {
     "cell_type": "markdown",
     "metadata": {},
     "source": [
      "Trying to generate the monomials of order two, the situation is less rosy:"
     ]
    },
    {
     "cell_type": "code",
     "collapsed": false,
     "input": [
      "itermonomials([a[0], a[1]], 2)"
     ],
     "language": "python",
     "metadata": {},
     "outputs": [
      {
       "latex": [
        "$$\\left\\{1, a_{0}, a_{0}^{2}, a_{1}, a_{1}^{2}, a_{0} a_{1}\\right\\}$$"
       ],
       "metadata": {},
       "output_type": "pyout",
       "png": "[encoded data removed]",
       "prompt_number": 4,
       "text": [
        "   \u239b\u23a1         2        2       \u23a4\u239e\n",
        "set\u239d\u23a31, a\u2080, a\u2080 , a\u2081, a\u2081 , a\u2080\u22c5a\u2081\u23a6\u23a0"
       ]
      }
     ],
     "prompt_number": 4
    },
    {
     "cell_type": "markdown",
     "metadata": {},
     "source": [
      "The polynomial functions do not support noncommutative variables. An additional problem is that the noncommutative variables are not complex:"
     ]
    },
    {
     "cell_type": "code",
     "collapsed": false,
     "input": [
      "a[0].assumptions0"
     ],
     "language": "python",
     "metadata": {},
     "outputs": [
      {
       "metadata": {},
       "output_type": "pyout",
       "prompt_number": 5,
       "text": [
        "{'algebraic': False,\n",
        " 'commutative': False,\n",
        " 'complex': False,\n",
        " 'composite': False,\n",
        " 'even': False,\n",
        " 'imaginary': False,\n",
        " 'integer': False,\n",
        " 'irrational': False,\n",
        " 'negative': False,\n",
        " 'noninteger': False,\n",
        " 'nonnegative': False,\n",
        " 'nonpositive': False,\n",
        " 'nonzero': True,\n",
        " 'odd': False,\n",
        " 'positive': False,\n",
        " 'prime': False,\n",
        " 'rational': False,\n",
        " 'real': False,\n",
        " 'transcendental': False,\n",
        " 'zero': False}"
       ]
      }
     ],
     "prompt_number": 5
    },
    {
     "cell_type": "markdown",
     "metadata": {},
     "source": [
      "The library will drop an error message if you want to define symbols that are both noncommutative and complex. We are not going to get Hermitian conjugates with these variables. A project from Google Summer of Code 2010 took care of such matters:"
     ]
    },
    {
     "cell_type": "code",
     "collapsed": false,
     "input": [
      "from sympy.physics.quantum.operator import HermitianOperator, Operator\n",
      "from sympy.physics.quantum.dagger import Dagger\n",
      "A = Operator('A')\n",
      "B = Operator('B')\n",
      "Dagger(A)"
     ],
     "language": "python",
     "metadata": {},
     "outputs": [
      {
       "latex": [
        "$$A^{\\dagger}$$"
       ],
       "metadata": {},
       "output_type": "pyout",
       "png": "[encoded data removed]",
       "prompt_number": 6,
       "text": [
        " \u2020\n",
        "A "
       ]
      }
     ],
     "prompt_number": 6
    },
    {
     "cell_type": "code",
     "collapsed": false,
     "input": [
      "simplify(A*B + B*A)"
     ],
     "language": "python",
     "metadata": {},
     "outputs": [
      {
       "latex": [
        "$$A B + B A$$"
       ],
       "metadata": {},
       "output_type": "pyout",
       "png": "[encoded data removed]",
       "prompt_number": 7,
       "text": [
        "A\u22c5B + B\u22c5A"
       ]
      }
     ],
     "prompt_number": 7
    },
    {
     "cell_type": "markdown",
     "metadata": {},
     "source": [
      "A new problem is that obtaining an arbitrary number of operators needs extra work:"
     ]
    },
    {
     "cell_type": "code",
     "collapsed": false,
     "input": [
      "n = 2\n",
      "X=[HermitianOperator('X%s' % i) for i in range(n)]"
     ],
     "language": "python",
     "metadata": {},
     "outputs": [],
     "prompt_number": 8
    },
    {
     "cell_type": "markdown",
     "metadata": {},
     "source": [
      "SymPy will not generate the correct monomials of operators either:"
     ]
    },
    {
     "cell_type": "code",
     "collapsed": false,
     "input": [
      "itermonomials([X[0], X[1]], 2)"
     ],
     "language": "python",
     "metadata": {},
     "outputs": [
      {
       "latex": [
        "$$\\left\\{1, X_{0} X_{1}, X_{0}, \\left(X_{0}\\right)^{2}, X_{1}, \\left(X_{1}\\right)^{2}\\right\\}$$"
       ],
       "metadata": {},
       "output_type": "pyout",
       "png": "[encoded data removed]",
       "prompt_number": 9,
       "text": [
        "   \u239b\u23a1                2        2\u23a4\u239e\n",
        "set\u239d\u23a31, X\u2080\u22c5X\u2081, X\u2080, X\u2080 , X\u2081, X\u2081 \u23a6\u23a0"
       ]
      }
     ],
     "prompt_number": 9
    },
    {
     "cell_type": "markdown",
     "metadata": {},
     "source": [
      "A not particularly sophisticated function will do the job for me, but it is probably not sufficiently generic:"
     ]
    },
    {
     "cell_type": "code",
     "collapsed": false,
     "input": [
      "def get_ncmonomials(variables, degree):\n",
      "    if not variables:\n",
      "        return [S.One]\n",
      "    else:\n",
      "        _variables = variables[:]\n",
      "        _variables.insert(0, 1)\n",
      "        ncmonomials = [S.One]\n",
      "        for _ in range(degree):\n",
      "            temp = []\n",
      "            for var in _variables:\n",
      "                for new_var in ncmonomials:\n",
      "                    temp.append(var * new_var)\n",
      "                    if var != 1 and not var.is_hermitian:\n",
      "                        temp.append(Dagger(var) * new_var)\n",
      "            ncmonomials = unique(temp[:])\n",
      "        return ncmonomials\n",
      "\n",
      "def unique(seq):\n",
      "    seen = {}\n",
      "    result = []\n",
      "    for item in seq:\n",
      "        marker = item\n",
      "        if marker in seen:\n",
      "            continue\n",
      "        seen[marker] = 1\n",
      "        result.append(item)\n",
      "    return result"
     ],
     "language": "python",
     "metadata": {},
     "outputs": [],
     "prompt_number": 10
    },
    {
     "cell_type": "markdown",
     "metadata": {},
     "source": [
      "It apparently works:"
     ]
    },
    {
     "cell_type": "code",
     "collapsed": false,
     "input": [
      "get_ncmonomials(X, 2)"
     ],
     "language": "python",
     "metadata": {},
     "outputs": [
      {
       "latex": [
        "$$\\left [ 1, \\quad X_{0}, \\quad X_{1}, \\quad \\left(X_{0}\\right)^{2}, \\quad X_{0} X_{1}, \\quad X_{1} X_{0}, \\quad \\left(X_{1}\\right)^{2}\\right ]$$"
       ],
       "metadata": {},
       "output_type": "pyout",
       "png": "[encoded data removed]",
       "prompt_number": 11,
       "text": [
        "\u23a1             2                  2\u23a4\n",
        "\u23a31, X\u2080, X\u2081, X\u2080 , X\u2080\u22c5X\u2081, X\u2081\u22c5X\u2080, X\u2081 \u23a6"
       ]
      }
     ],
     "prompt_number": 11
    },
    {
     "cell_type": "markdown",
     "metadata": {},
     "source": [
      "What is astonishing is just how fast it is compared to Yalmip. Matlab finds it hard to handle problems as small as 512 variables with monomials of order 2. The speedup is in the range of 100\u2013400x. The computational complexity of generating monomials does not change, but practical problems are within range."
     ]
    },
    {
     "cell_type": "markdown",
     "metadata": {},
     "source": [
      "![Timing results for generating monomials of N noncommutative operators of order 2.](http://peterwittek.com/images/order2.png)\n",
      "<center>Timing results for generating monomials of N noncommutative operators of order 2.</center>"
     ]
    }
   ],
   "metadata": {}
  }
 ]
}