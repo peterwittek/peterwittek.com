{
 "cells": [
  {
   "cell_type": "markdown",
   "metadata": {},
   "source": [
    "We are not spoilt for choices to work with polynomials of noncommutative variables. [Yalmip](http://users.isy.liu.se/johanl/yalmip/) has undocumented noncommutative functionality for MATLAB. While the rest of the toolbox is regularly updated, the noncommutative parts are neglected. [NCAlgebra](http://www.math.ucsd.edu/~ncalg/) is a package for Mathematica, but its semidefinite programming functions do not seem to be working, and those are the ones we need. [SymPy](http://sympy.org/), a Python library for symbolic mathematics, has basic functionality for noncommutative variables, so I took a closer look whether it is able to generate monomials of arbitrary order. Given that this is an open source solution, I would love to see it working. The discussion below uses SymPy 0.7.5.\n",
    "\n",
    "To start with, we have to import the library:"
   ]
  },
  {
   "cell_type": "code",
   "execution_count": 1,
   "metadata": {
    "collapsed": false
   },
   "outputs": [],
   "source": [
    "from sympy import *\n",
    "init_printing() "
   ]
  },
  {
   "cell_type": "markdown",
   "metadata": {},
   "source": [
    "Defining an arbitrary number of noncommutative variables is easy:"
   ]
  },
  {
   "cell_type": "code",
   "execution_count": 2,
   "metadata": {
    "collapsed": false
   },
   "outputs": [],
   "source": [
    "a=symbols('a0:2', commutative=False)"
   ]
  },
  {
   "cell_type": "markdown",
   "metadata": {},
   "source": [
    "Behold the result:"
   ]
  },
  {
   "cell_type": "code",
   "execution_count": 3,
   "metadata": {
    "collapsed": false
   },
   "outputs": [
    {
     "data": {
      "image/png": "[encoded data removed]",
      "text/latex": [
       "$$a_{0} a_{1} + a_{1} a_{0}$$"
      ],
      "text/plain": [
       "a₀⋅a₁ + a₁⋅a₀"
      ]
     },
     "execution_count": 3,
     "metadata": {},
     "output_type": "execute_result"
    }
   ],
   "source": [
    "simplify(a[0]*a[1] + a[1]*a[0])"
   ]
  },
  {
   "cell_type": "markdown",
   "metadata": {},
   "source": [
    "Trying to generate the monomials of order two, the situation is less rosy:"
   ]
  },
  {
   "cell_type": "code",
   "execution_count": 4,
   "metadata": {
    "collapsed": false
   },
   "outputs": [
    {
     "data": {
      "image/png": "[encoded data removed]",
      "text/latex": [
       "$$\\left\\{1, a_{0}, a_{0}^{2}, a_{1}, a_{1}^{2}, a_{0} a_{1}\\right\\}$$"
      ],
      "text/plain": [
       "   ⎛⎡         2        2       ⎤⎞\n",
       "set⎝⎣1, a₀, a₀ , a₁, a₁ , a₀⋅a₁⎦⎠"
      ]
     },
     "execution_count": 4,
     "metadata": {},
     "output_type": "execute_result"
    }
   ],
   "source": [
    "itermonomials([a[0], a[1]], 2)"
   ]
  },
  {
   "cell_type": "markdown",
   "metadata": {},
   "source": [
    "The polynomial functions do not support noncommutative variables. An additional problem is that the noncommutative variables are not complex:"
   ]
  },
  {
   "cell_type": "code",
   "execution_count": 5,
   "metadata": {
    "collapsed": false
   },
   "outputs": [
    {
     "data": {
      "text/plain": [
       "{'algebraic': False,\n",
       " 'commutative': False,\n",
       " 'complex': False,\n",
       " 'composite': False,\n",
       " 'even': False,\n",
       " 'imaginary': False,\n",
       " 'integer': False,\n",
       " 'irrational': False,\n",
       " 'negative': False,\n",
       " 'noninteger': False,\n",
       " 'nonnegative': False,\n",
       " 'nonpositive': False,\n",
       " 'nonzero': True,\n",
       " 'odd': False,\n",
       " 'positive': False,\n",
       " 'prime': False,\n",
       " 'rational': False,\n",
       " 'real': False,\n",
       " 'transcendental': False,\n",
       " 'zero': False}"
      ]
     },
     "execution_count": 5,
     "metadata": {},
     "output_type": "execute_result"
    }
   ],
   "source": [
    "a[0].assumptions0"
   ]
  },
  {
   "cell_type": "markdown",
   "metadata": {},
   "source": [
    "The library will drop an error message if you want to define symbols that are both noncommutative and complex. We are not going to get Hermitian conjugates with these variables. A project from Google Summer of Code 2010 took care of such matters:"
   ]
  },
  {
   "cell_type": "code",
   "execution_count": 6,
   "metadata": {
    "collapsed": false
   },
   "outputs": [
    {
     "data": {
      "image/png": "[encoded data removed]",
      "text/latex": [
       "$$A^{\\dagger}$$"
      ],
      "text/plain": [
       " †\n",
       "A "
      ]
     },
     "execution_count": 6,
     "metadata": {},
     "output_type": "execute_result"
    }
   ],
   "source": [
    "from sympy.physics.quantum.operator import HermitianOperator, Operator\n",
    "from sympy.physics.quantum.dagger import Dagger\n",
    "A = Operator('A')\n",
    "B = Operator('B')\n",
    "Dagger(A)"
   ]
  },
  {
   "cell_type": "code",
   "execution_count": 7,
   "metadata": {
    "collapsed": false
   },
   "outputs": [
    {
     "data": {
      "image/png": "[encoded data removed]",
      "text/latex": [
       "$$A B + B A$$"
      ],
      "text/plain": [
       "A⋅B + B⋅A"
      ]
     },
     "execution_count": 7,
     "metadata": {},
     "output_type": "execute_result"
    }
   ],
   "source": [
    "simplify(A*B + B*A)"
   ]
  },
  {
   "cell_type": "markdown",
   "metadata": {},
   "source": [
    "A new problem is that obtaining an arbitrary number of operators needs extra work:"
   ]
  },
  {
   "cell_type": "code",
   "execution_count": 8,
   "metadata": {
    "collapsed": false
   },
   "outputs": [],
   "source": [
    "n = 2\n",
    "X=[HermitianOperator('X%s' % i) for i in range(n)]"
   ]
  },
  {
   "cell_type": "markdown",
   "metadata": {},
   "source": [
    "SymPy will not generate the correct monomials of operators either:"
   ]
  },
  {
   "cell_type": "code",
   "execution_count": 9,
   "metadata": {
    "collapsed": false
   },
   "outputs": [
    {
     "data": {
      "image/png": "[encoded data removed]",
      "text/latex": [
       "$$\\left\\{1, X_{0} X_{1}, X_{0}, \\left(X_{0}\\right)^{2}, X_{1}, \\left(X_{1}\\right)^{2}\\right\\}$$"
      ],
      "text/plain": [
       "   ⎛⎡                2        2⎤⎞\n",
       "set⎝⎣1, X₀⋅X₁, X₀, X₀ , X₁, X₁ ⎦⎠"
      ]
     },
     "execution_count": 9,
     "metadata": {},
     "output_type": "execute_result"
    }
   ],
   "source": [
    "itermonomials([X[0], X[1]], 2)"
   ]
  },
  {
   "cell_type": "markdown",
   "metadata": {},
   "source": [
    "A not particularly sophisticated function will do the job for me, but it is probably not sufficiently generic:"
   ]
  },
  {
   "cell_type": "code",
   "execution_count": 10,
   "metadata": {
    "collapsed": false
   },
   "outputs": [],
   "source": [
    "def get_ncmonomials(variables, degree):\n",
    "    if not variables:\n",
    "        return [S.One]\n",
    "    else:\n",
    "        _variables = variables[:]\n",
    "        _variables.insert(0, 1)\n",
    "        ncmonomials = [S.One]\n",
    "        for _ in range(degree):\n",
    "            temp = []\n",
    "            for var in _variables:\n",
    "                for new_var in ncmonomials:\n",
    "                    temp.append(var * new_var)\n",
    "                    if var != 1 and not var.is_hermitian:\n",
    "                        temp.append(Dagger(var) * new_var)\n",
    "            ncmonomials = unique(temp[:])\n",
    "        return ncmonomials\n",
    "\n",
    "def unique(seq):\n",
    "    seen = {}\n",
    "    result = []\n",
    "    for item in seq:\n",
    "        marker = item\n",
    "        if marker in seen:\n",
    "            continue\n",
    "        seen[marker] = 1\n",
    "        result.append(item)\n",
    "    return result"
   ]
  },
  {
   "cell_type": "markdown",
   "metadata": {},
   "source": [
    "It apparently works:"
   ]
  },
  {
   "cell_type": "code",
   "execution_count": 11,
   "metadata": {
    "collapsed": false
   },
   "outputs": [
    {
     "data": {
      "image/png": "[encoded data removed]",
      "text/latex": [
       "$$\\left [ 1, \\quad X_{0}, \\quad X_{1}, \\quad \\left(X_{0}\\right)^{2}, \\quad X_{0} X_{1}, \\quad X_{1} X_{0}, \\quad \\left(X_{1}\\right)^{2}\\right ]$$"
      ],
      "text/plain": [
       "⎡             2                  2⎤\n",
       "⎣1, X₀, X₁, X₀ , X₀⋅X₁, X₁⋅X₀, X₁ ⎦"
      ]
     },
     "execution_count": 11,
     "metadata": {},
     "output_type": "execute_result"
    }
   ],
   "source": [
    "get_ncmonomials(X, 2)"
   ]
  },
  {
   "cell_type": "markdown",
   "metadata": {},
   "source": [
    "What is astonishing is just how fast it is compared to Yalmip. Matlab finds it hard to handle problems as small as 512 variables with monomials of order 2. The speedup is in the range of 100–400x. The computational complexity of generating monomials does not change, but practical problems are within range."
   ]
  },
  {
   "cell_type": "markdown",
   "metadata": {},
   "source": [
    "![Timing results for generating monomials of N noncommutative operators of order 2.](http://peterwittek.com/images/order2.png)\n",
    "<center>Timing results for generating monomials of N noncommutative operators of order 2.</center>"
   ]
  }
 ],
 "metadata": {
  "kernelspec": {
   "display_name": "Python 2",
   "language": "python",
   "name": "python2"
  },
  "language_info": {
   "codemirror_mode": {
    "name": "ipython",
    "version": 2
   },
   "file_extension": ".py",
   "mimetype": "text/x-python",
   "name": "python",
   "nbconvert_exporter": "python",
   "pygments_lexer": "ipython2",
   "version": "2.7.10"
  }
 },
 "nbformat": 4,
 "nbformat_minor": 0
}
