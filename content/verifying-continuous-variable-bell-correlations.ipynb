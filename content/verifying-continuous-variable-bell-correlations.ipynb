{
 "cells": [
  {
   "cell_type": "markdown",
   "metadata": {},
   "source": [
    "Introduction\n",
    "===============\n",
    "Continuous-variable (CV) quantum info is a lot less studied than the qubit/qudit scenario. Having spent a few days trying to learn the basics, I can understand why. The theory is often still tied to experimental setups, so when I would expect a formula for a state, I get something like \"the squeezed states were created in the side bands of spatially separated beams of a Nd:YAG 1064nm laser\" ([arXiv:1801.03194](https://arxiv.org/abs/1801.03194)). So I thought a good start would be studying the kind of Bell scenarios with which I have some familiarity. The paper [arXiv:1012.1916](https://arxiv.org/abs/1012.1916) gives a very simple and mathematically clear scenario that can easily be implemented in [Strawberry Fields](https://strawberryfields.readthedocs.io/en/latest/index.html).\n",
    "\n",
    "In this scenario, we use a blend of two views. Alice and Bob can perform two measurements each like in a regular [CHSH](https://en.wikipedia.org/wiki/CHSH_inequality) setting, but instead of the usual configuration of Pauli measurements, one of their measurements is the photon number $N$ and the other is the $X$ quadrature. The former takes discrete values and the latter continues ones. The measurement results are postprocessed to obtain outcomes in $a,b\\in\\{-1,+1\\}$, where $a$ and $b$ label Alice and Bob's outcomes respectively, again, just like in a regular CHSH setting. \n",
    "\n",
    "When measuring $N$, we set the outcome to $+1$ if the result is $N>0$, and to $-1$ if the result is $N=0$. For the $X$ measurement, we single out an interval $[-z, z]$. We output $+1$ if $x\\in [-z, z]$ and $-1$ if $x\\in \\mathbb{R}\\setminus [-z, z]$. The choice of $z$ depends on how we deal with $\\hbar$. \n",
    "\n",
    "Using these measurements, we use the CHSH inequality:\n",
    "$$\n",
    "S=E_{XX}+E_{XN}+E_{NX}-E_{NN}\\leq 2,\n",
    "$$\n",
    "where $E_{jk}=P(a=b|jk)-P(a\\neq b|jk)$ is the expectation value of the measurements $j$ and $k$ after the binning."
   ]
  },
  {
   "cell_type": "markdown",
   "metadata": {},
   "source": [
    "Violating a Bell inequality in a CV setting\n",
    "=======================================\n",
    "First we import everything we will need:"
   ]
  },
  {
   "cell_type": "code",
   "execution_count": 6,
   "metadata": {
    "ExecuteTime": {
     "end_time": "2018-05-24T00:46:51.096581Z",
     "start_time": "2018-05-24T00:46:49.615163Z"
    }
   },
   "outputs": [],
   "source": [
    "import numpy as np\n",
    "import strawberryfields as sf\n",
    "from numpy import pi as π\n",
    "from strawberryfields.ops import Fock, BSgate, MeasureFock, MeasureX\n",
    "from tqdm import tqdm\n",
    "np.set_printoptions(suppress=True, precision=3)"
   ]
  },
  {
   "cell_type": "markdown",
   "metadata": {},
   "source": [
    "We define the state preparation protocol and the measurements, which are arguments to the function. The state we prepare is $|\\Psi_2\\rangle=\\frac{|2\\rangle_A|0\\rangle_B+|0\\rangle_A|2\\rangle_B}{\\sqrt{2}}$, which [can be done](https://en.wikipedia.org/wiki/Hong–Ou–Mandel_effect) with a 1:1 beam splitter."
   ]
  },
  {
   "cell_type": "code",
   "execution_count": 2,
   "metadata": {
    "ExecuteTime": {
     "end_time": "2018-05-23T20:52:25.204256Z",
     "start_time": "2018-05-23T20:52:25.194186Z"
    }
   },
   "outputs": [],
   "source": [
    "def prepare_and_measure(Alice, Bob, q):\n",
    "    Fock(1) | q[0]\n",
    "    Fock(1) | q[1]\n",
    "    BSgate(π/4, π) | (q[0], q[1])\n",
    "    Alice   | q[0]\n",
    "    Bob     | q[1]"
   ]
  },
  {
   "cell_type": "markdown",
   "metadata": {},
   "source": [
    "Next we set up the function for postprocessing the measurement outcomes and another one for picking the right measurement for Alice and Bob corresponding to a choice of $x$ and $y$."
   ]
  },
  {
   "cell_type": "code",
   "execution_count": 3,
   "metadata": {
    "ExecuteTime": {
     "end_time": "2018-05-23T20:52:42.039415Z",
     "start_time": "2018-05-23T20:52:42.031867Z"
    }
   },
   "outputs": [],
   "source": [
    "def postprocess(in_, out, z):\n",
    "    if in_ == 0:\n",
    "        if out > 0:\n",
    "            return 1\n",
    "        else:\n",
    "            return 0\n",
    "    else:\n",
    "        if out < -z or out > z:\n",
    "            return 0\n",
    "        else:\n",
    "            return 1\n",
    "\n",
    "\n",
    "def preprocess(in_):\n",
    "    if in_ == 0:\n",
    "        return MeasureFock()\n",
    "    else:\n",
    "        return MeasureX"
   ]
  },
  {
   "cell_type": "markdown",
   "metadata": {},
   "source": [
    "For one round of the experiment, we start a new engine and run the program with a given $x$ and $y$. The function returns the postprocessed measurement outcome. The value for $z$ in the postprocessing was picked to have positive correlation in the $E_{XX}$ expectation value."
   ]
  },
  {
   "cell_type": "code",
   "execution_count": 16,
   "metadata": {
    "ExecuteTime": {
     "end_time": "2018-05-24T00:49:04.140124Z",
     "start_time": "2018-05-24T00:49:04.135486Z"
    }
   },
   "outputs": [],
   "source": [
    "def do_experiment(x, y, z=40.83):\n",
    "    Alice = preprocess(x)\n",
    "    Bob = preprocess(y)\n",
    "    eng, q = sf.Engine(2)\n",
    "    with eng:\n",
    "        prepare_and_measure(Alice, Bob, q)\n",
    "    eng.run('fock', cutoff_dim=3)\n",
    "    a = postprocess(x, q[0].val, z)\n",
    "    b = postprocess(y, q[1].val, z)\n",
    "    return a, b"
   ]
  },
  {
   "cell_type": "markdown",
   "metadata": {},
   "source": [
    "With this function, we can finally start gathering measurement statistics."
   ]
  },
  {
   "cell_type": "code",
   "execution_count": 17,
   "metadata": {
    "ExecuteTime": {
     "end_time": "2018-05-24T00:49:12.053158Z",
     "start_time": "2018-05-24T00:49:09.661663Z"
    }
   },
   "outputs": [
    {
     "name": "stderr",
     "output_type": "stream",
     "text": [
      "100%|██████████| 100/100 [00:02<00:00, 42.03it/s]\n"
     ]
    }
   ],
   "source": [
    "n_rounds = 100\n",
    "N = np.zeros((2, 2, 2, 2))\n",
    "for _ in tqdm(range(n_rounds)):\n",
    "    x = np.random.randint(2)\n",
    "    y = np.random.randint(2)\n",
    "    a, b = do_experiment(x, y)\n",
    "    N[a, b, x, y] += 1"
   ]
  },
  {
   "cell_type": "markdown",
   "metadata": {},
   "source": [
    "Now we can convert these statistics to expectation values."
   ]
  },
  {
   "cell_type": "code",
   "execution_count": 18,
   "metadata": {
    "ExecuteTime": {
     "end_time": "2018-05-24T00:49:14.496834Z",
     "start_time": "2018-05-24T00:49:14.482360Z"
    }
   },
   "outputs": [],
   "source": [
    "def calculate_expectation(N, x, y):\n",
    "    n = sum(N[a, b, x, y] for a in range(2) for b in range(2))\n",
    "    return (sum(N[a, b, x, y] for a, b in zip(range(2), range(2))) -\n",
    "            sum(N[a, b, x, y] for a, b in zip(range(2), range(1, -1, -1))))/n\n",
    "\n",
    "E_NN = calculate_expectation(N, 0, 0)\n",
    "E_XN = calculate_expectation(N, 1, 0)\n",
    "E_NX = calculate_expectation(N, 0, 1)\n",
    "E_XX = calculate_expectation(N, 1, 1)"
   ]
  },
  {
   "cell_type": "markdown",
   "metadata": {},
   "source": [
    "Here's our Bell violation:"
   ]
  },
  {
   "cell_type": "code",
   "execution_count": 19,
   "metadata": {
    "ExecuteTime": {
     "end_time": "2018-05-24T00:49:15.468157Z",
     "start_time": "2018-05-24T00:49:15.455131Z"
    }
   },
   "outputs": [
    {
     "name": "stdout",
     "output_type": "stream",
     "text": [
      "2.34580645161\n"
     ]
    }
   ],
   "source": [
    "print(E_XX + E_XN + E_NX - E_NN)"
   ]
  },
  {
   "cell_type": "markdown",
   "metadata": {},
   "source": [
    "Device-independent verification of quantum correlations\n",
    "=======================================================\n",
    "The [NPA hierarchy](https://arxiv.org/abs/0803.4290) gives a way to bound the quantum set with semidefinite programs (SDPs), so we can verify whether a set of correlations is quantum. Since we only deal with the observed correlations, the certification is in principle device-independent. Therefore the dimension of the system that generated the correlations does not play any role: it works for discrete and CV systems. The package [Ncpol2sdpa](http://ncpol2sdpa.readthedocs.io/) was primarily developed for generating and solving these SDPs. We need to import a few functions from it:"
   ]
  },
  {
   "cell_type": "code",
   "execution_count": 35,
   "metadata": {
    "ExecuteTime": {
     "end_time": "2018-05-24T01:06:01.891318Z",
     "start_time": "2018-05-24T01:06:01.884297Z"
    }
   },
   "outputs": [],
   "source": [
    "from ncpol2sdpa import flatten, generate_measurements, generate_operators, projective_measurement_constraints, SdpRelaxation"
   ]
  },
  {
   "cell_type": "markdown",
   "metadata": {},
   "source": [
    "We generate the symbolic measurement operators and the constraints that ensure that they are projective:"
   ]
  },
  {
   "cell_type": "code",
   "execution_count": 26,
   "metadata": {
    "ExecuteTime": {
     "end_time": "2018-05-24T00:56:16.977064Z",
     "start_time": "2018-05-24T00:56:16.970197Z"
    }
   },
   "outputs": [],
   "source": [
    "A = generate_measurements([2, 2], 'A')\n",
    "B = generate_measurements([2, 2], 'B')\n",
    "substitutions = projective_measurement_constraints(A, B)"
   ]
  },
  {
   "cell_type": "markdown",
   "metadata": {},
   "source": [
    "To match the observed statistics with the probability picture, we define an additional helper function:"
   ]
  },
  {
   "cell_type": "code",
   "execution_count": 27,
   "metadata": {
    "ExecuteTime": {
     "end_time": "2018-05-24T00:58:34.220535Z",
     "start_time": "2018-05-24T00:58:34.211888Z"
    }
   },
   "outputs": [],
   "source": [
    "def get_probability(N, a, b, x, y):\n",
    "    n = sum(N[a, b, x, y] for a in range(2) for b in range(2))\n",
    "    return N[a, b, x, y]/n"
   ]
  },
  {
   "cell_type": "markdown",
   "metadata": {},
   "source": [
    "We clamp some of the moments in the moment matrix of the SDP to the observed correlations. If the SDP is feasible with these clampings, that guarantees that the correlations are within the polytope that bounds the quantum set. This approximating polytope gets tighter around the quantum set with higher levels of relaxation, and eventually converges."
   ]
  },
  {
   "cell_type": "code",
   "execution_count": 30,
   "metadata": {
    "ExecuteTime": {
     "end_time": "2018-05-24T00:58:54.962877Z",
     "start_time": "2018-05-24T00:58:54.956301Z"
    }
   },
   "outputs": [],
   "source": [
    "moment_substitutions = {}\n",
    "for x in range(2):\n",
    "    for y in range(2):\n",
    "        moment_substitutions[A[x][0]*B[y][0]] = get_probability(N, 0, 0, x, y)"
   ]
  },
  {
   "cell_type": "markdown",
   "metadata": {},
   "source": [
    "Finally, we generate the SDP and solve it. This is a feasibility problem, and few SDP solvers can deal with it, which is why we used Mosek."
   ]
  },
  {
   "cell_type": "code",
   "execution_count": 33,
   "metadata": {
    "ExecuteTime": {
     "end_time": "2018-05-24T01:00:21.158253Z",
     "start_time": "2018-05-24T01:00:20.784589Z"
    }
   },
   "outputs": [
    {
     "name": "stdout",
     "output_type": "stream",
     "text": [
      "optimal\n"
     ]
    }
   ],
   "source": [
    "level = 2\n",
    "sdp = SdpRelaxation(flatten([A, B]))\n",
    "sdp.get_relaxation(level, substitutions=substitutions,\n",
    "                   momentsubstitutions=moment_substitutions)\n",
    "sdp.solve(solver='mosek')\n",
    "print(sdp.status)"
   ]
  },
  {
   "cell_type": "markdown",
   "metadata": {},
   "source": [
    "The status says optimal, which means the problem is feasible."
   ]
  }
 ],
 "metadata": {
  "kernelspec": {
   "display_name": "Python 3",
   "language": "python",
   "name": "python3"
  },
  "language_info": {
   "codemirror_mode": {
    "name": "ipython",
    "version": 3
   },
   "file_extension": ".py",
   "mimetype": "text/x-python",
   "name": "python",
   "nbconvert_exporter": "python",
   "pygments_lexer": "ipython3",
   "version": "3.6.5"
  },
  "varInspector": {
   "cols": {
    "lenName": 16,
    "lenType": 16,
    "lenVar": 40
   },
   "kernels_config": {
    "python": {
     "delete_cmd_postfix": "",
     "delete_cmd_prefix": "del ",
     "library": "var_list.py",
     "varRefreshCmd": "print(var_dic_list())"
    },
    "r": {
     "delete_cmd_postfix": ") ",
     "delete_cmd_prefix": "rm(",
     "library": "var_list.r",
     "varRefreshCmd": "cat(var_dic_list()) "
    }
   },
   "types_to_exclude": [
    "module",
    "function",
    "builtin_function_or_method",
    "instance",
    "_Feature"
   ],
   "window_display": false
  }
 },
 "nbformat": 4,
 "nbformat_minor": 2
}
