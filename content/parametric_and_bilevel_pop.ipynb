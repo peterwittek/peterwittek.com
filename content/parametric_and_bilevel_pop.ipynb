{
 "cells": [
  {
   "cell_type": "markdown",
   "metadata": {},
   "source": [
    "Relaxations of parametric and bilevel polynomial optimization problems\n",
    "========================================\n",
    "Suppose we are interested in finding the global optimum of the following constrained polynomial optimization problem:\n",
    "\n",
    "$$ \\min_{x\\in\\mathbb{R}^n}f(x)$$\n",
    "such that\n",
    "$$ g_i(x) \\geq 0, i=1,\\ldots,r$$\n",
    "\n",
    "Here $f$ and $g_i$ are polynomials in $x$. We can think of the constraints as a semialgebraic set $\\mathbf{K}=\\{x\\in\\mathbb{R}^n: g_i(x) \\geq 0, i=1,\\ldots,r\\}$. [Lasserre's method](http://dx.doi.org/10.1137/S1052623400366802) gives a series of semidefinite programming (SDP) relaxation of increasing size that approximate this optimum through the moments of $x$.\n",
    "\n",
    "A [manuscript](http://arxiv.org/abs/1506.02099) appeared on arXiv a few months ago that considers bilevel polynomial optimization problems, that is, when a set of variables is subject to a lower level optimization. The method heavily relies on the [joint+marginal approach](http://dx.doi.org/10.1137/090759240) to SDP relaxations of parametric polynomial optimization problems. Here we discuss both methods and how they can be implemented with [Ncpol2sdpa](http://ncpol2sdpa.readthedocs.org)>=1.10 in Python.\n",
    "\n",
    "Constraints on moments\n",
    "------------------------------\n",
    "\n",
    "Let us consider the plainest form of the SDP relaxation first with the the following trivial polynomial optimization problem:\n",
    "\n",
    "$$ \\min_{x\\in \\mathbb{R}}2x^2$$\n",
    "\n",
    "Let us denote the linear mapping from monomials to $\\mathbb{R}$ by $L_x$. Then, for instance, $L_x(2x^2)= 2y_2$. If there is a representing Borel measure $\\mu$ on the semialgebraic set $\\mathbf{K}$ of the constraints (in this case, there are no constraints), then we can write $y_\\alpha = \\int_\\mathbf{K} x^\\alpha \\mathrm{d}\\mu$. The level-1 relaxation will be\n",
    "\n",
    "$$ \\min_{y}2y_{2}$$\n",
    "such that\n",
    "$$\\left[ \\begin{array}{cc}1 & y_{1} \\\\y_{1} & y_{2}\\end{array} \\right] \\succeq{}0.$$\n",
    "\n",
    "We import some functions first that we will use later:"
   ]
  },
  {
   "cell_type": "code",
   "execution_count": 1,
   "metadata": {
    "collapsed": false
   },
   "outputs": [],
   "source": [
    "import matplotlib.pyplot as plt\n",
    "from math import sqrt\n",
    "from sympy import integrate, N\n",
    "from ncpol2sdpa import SdpRelaxation, generate_variables, flatten\n",
    "%matplotlib inline "
   ]
  },
  {
   "cell_type": "markdown",
   "metadata": {},
   "source": [
    "Not surprisingly, solving the example gives a very accurate result:"
   ]
  },
  {
   "cell_type": "code",
   "execution_count": 2,
   "metadata": {
    "collapsed": false
   },
   "outputs": [
    {
     "name": "stdout",
     "output_type": "stream",
     "text": [
      "1.5990354545454662e-08 -1.5990354545454556e-08\n"
     ]
    }
   ],
   "source": [
    "x = generate_variables('x')[0]\n",
    "sdp = SdpRelaxation([x])\n",
    "sdp.get_relaxation(1, objective=x**2)\n",
    "sdp.solve()\n",
    "print(sdp.primal, sdp.dual)"
   ]
  },
  {
   "cell_type": "markdown",
   "metadata": {},
   "source": [
    "Notice that even in this formulation, there is an implicit constraint on a moment: the top left element of the moment matrix is 1. Given a representing measure, this means that $\\int_\\mathbf{K} \\mathrm{d}\\mu=1$. It is actually because of this that a $\\lambda$ dual variable appears in the dual formulation:\n",
    "$$max_{\\lambda, \\sigma_0} \\lambda$$\n",
    "such that\n",
    "$$2x^2 - \\lambda = \\sigma_0\\\\\n",
    "\\sigma_0\\in \\Sigma{[x]}, \\mathrm{deg}\\sigma_0\\leq 2.$$\n",
    "\n",
    "In fact, we can move $\\lambda$ to the right-hand side, where the sum-of-squares (SOS) decomposition is, $\\lambda$ being a trivial SOS multiplied by the constraint $\\int_\\mathbf{K} \\mathrm{d}\\mu$, that is, by 1.\n",
    "\n",
    "We normally think of adding some $g_i(x)$ polynomial constraints that define a semialgebraic set, and then constructing matching localizing matrices. We can, however, impose more constraints on the moments. For instance, we can add a constraint that $\\int_\\mathbf{K} x\\mathrm{d}\\mu = 1$. All of these constraints will have a constant instead of an SOS polynomial in the dual. Solving this problem gives the correct result again:"
   ]
  },
  {
   "cell_type": "code",
   "execution_count": 3,
   "metadata": {
    "collapsed": false
   },
   "outputs": [
    {
     "name": "stdout",
     "output_type": "stream",
     "text": [
      "1.0000006249546196 0.9999997167810939\n"
     ]
    }
   ],
   "source": [
    "moments = [x-1]\n",
    "sdp = SdpRelaxation([x])\n",
    "sdp.get_relaxation(1, objective=x**2, momentequalities=moments)\n",
    "sdp.solve()\n",
    "print(sdp.primal, sdp.dual)"
   ]
  },
  {
   "cell_type": "markdown",
   "metadata": {},
   "source": [
    "The dual changed, slightly. Let $\\gamma_\\beta=\\int_\\mathbf{K} x^\\beta\\mathrm{d}\\mu$ for $\\beta=0, 1$. Then the dual reads as\n",
    "\n",
    "$$max_{\\lambda_\\beta, \\sigma_0} \\sum_{\\beta=0}^1\\lambda_\\beta \\gamma_\\beta$$\n",
    "such that\n",
    "$$2x^2 - \\sum_{\\beta=0}^1\\lambda_\\beta x^\\beta = \\sigma_0\\\\\n",
    "\\sigma_0\\in \\Sigma{[x]}, \\mathrm{deg}\\sigma_0\\leq 2.$$\n",
    "\n",
    "Indeed, if we extract the coefficients, we will see that $x$ gets a $\\lambda_1=2$ (note that equalities are replaced by pairs of inequalities):"
   ]
  },
  {
   "cell_type": "code",
   "execution_count": 4,
   "metadata": {
    "collapsed": false
   },
   "outputs": [
    {
     "name": "stdout",
     "output_type": "stream",
     "text": [
      "[1.0, 2.0] [0.9999997167810939, 2.00000000000000]\n"
     ]
    }
   ],
   "source": [
    "coeffs = [-sdp.extract_dual_value(0, range(1))]\n",
    "coeffs += [sdp.y_mat[2*i+1][0][0] - sdp.y_mat[2*i+2][0][0]\n",
    "           for i in range(len(moments))]\n",
    "sigma_i = sdp.get_sos_decomposition()\n",
    "print(coeffs, [sdp.dual, sigma_i[1]-sigma_i[2]])"
   ]
  },
  {
   "cell_type": "markdown",
   "metadata": {},
   "source": [
    "Moment constraints play a crucial role in the joint+marginal approach of the SDP relaxation of polynomial optimization problems, and hence also indirectly in the bilevel polynomial optimization problems."
   ]
  },
  {
   "cell_type": "markdown",
   "metadata": {},
   "source": [
    "Joint+marginal approach\n",
    "-------------------------------\n",
    "In a parametric polynomial optimization problem, we can separate two sets of variables, and one set acts as a parameter to the problem. More formally, we would like to find the following function:\n",
    "\n",
    "$$ J(x) = \\inf_{y\\in\\mathbb{R}^m}\\{f(x,y): h_j(y)\\geq 0, j=1,\\ldots,r\\},$$\n",
    "\n",
    "where $x\\in\\mathbf{X}=\\{x\\in \\mathbb{R}^n: h_k(x)\\geq 0, k=r+1,\\ldots,t\\}$. This [can be relaxed](http://dx.doi.org/10.1137/090759240) as an SDP, and we can extract an approximation $J_k(x)$ at level-$k$ from the dual solution. The primal form reads as\n",
    "\n",
    "$$ \\mathrm{inf}_z L_z(f)$$\n",
    "such that\n",
    "$$ M_k(z)\\succeq 0,\\\\\n",
    "M_{k-v_j}(h_j z)\\succeq 0, j=1,\\ldots,t\\\\\n",
    "L_z(x^\\beta) = \\gamma_\\beta, \\forall\\beta\\in\\mathbb{N}_k^n.$$\n",
    "\n",
    "Notice that the localizing matrices also address the polynomial constraints that define the semialgebraic set $\\mathbf{X}$. If the positivity constraints are fulfilled, then we have a finite Borel representing measure $\\mu$ on $\\mathbf{K}=\\{h_j(y)\\geq 0, j=1,\\ldots,r\\}$ such that $z_{\\alpha\\beta}=\\int_\\mathbf{K} x^\\alpha y^\\beta\\mathrm{d}\\mu$. \n",
    "\n",
    "The part that is different from the regular Lasserre hierachy is the last line, where $\\gamma_\\beta=\\int_\\mathbf{X} x^\\beta\\mathrm{d}\\varphi(x)$. This establishes a connection between the moments of $x$ on $\\mathbf{K}$ in measure $\\mu$ and the moments of $x$ on $\\mathbf{X}$ in measure $\\varphi$. This $\\varphi$ measure is a Borel probability measure on $\\mathbf{X}$ with a positive density with respect to the Lebesgue measure on $\\mathbb{R}^n$. In other words, the marginal of one measure must match the other on $\\mathbf{X}$.\n",
    "\n",
    "The dual of the primal form of the SDP with these moment constraints is\n",
    "\n",
    "$$ \\mathrm{sup}_{p, \\sigma_i} \\int_\\mathbf{X} p \\mathrm{d}\\varphi$$\n",
    "such that\n",
    "$$ f - p = \\sigma_0 + \\sum_{j=1}^t \\sigma_j h_j\\\n",
    "p\\in\\mathbb{R}[x], \\sigma_j\\in\\Sigma[x, y], j=0,\\ldots,t\\\\\n",
    "\\mathrm{deg} p\\leq 2k, \\mathrm{deg} \\sigma_0\\leq 2k, \\mathrm{deg}\\sigma_j h_j \\leq 2k, j=1,\\ldots, t.\n",
    "$$\n",
    "\n",
    "The polynomial $p=\\sum_{\\beta=0}^{2k} \\lambda_\\beta x^\\beta$ is the approximation $J_k(x)$. Below we reproduce the three examples of the paper.\n",
    "\n",
    "*Example 1*\n",
    "\n",
    "Let $\\mathbf{X}=[0,1]$, $\\mathbf{K}=\\{(x,y): 1-x^2-y^2\\geq 0; x,y\\in\\mathbf{X}\\}$, and $f(x,y)= - xy^2$. We know that $J(x) = -1(1-x^2)x$. First we declare $J(x)$, a helper function to define a polynomial, and we set up the symbolic variables $x$ and $y$."
   ]
  },
  {
   "cell_type": "code",
   "execution_count": 5,
   "metadata": {
    "collapsed": true
   },
   "outputs": [],
   "source": [
    "def J(x):\n",
    "    return -(1-x**2)*x\n",
    "\n",
    "\n",
    "def Jk(x, coeffs):\n",
    "    return sum(ci*x**i for i, ci in enumerate(coeffs))\n",
    "\n",
    "x = generate_variables('x')[0]\n",
    "y = generate_variables('y')[0]"
   ]
  },
  {
   "cell_type": "markdown",
   "metadata": {},
   "source": [
    "Next, we define the level of the relaxation and the moment constraints:"
   ]
  },
  {
   "cell_type": "code",
   "execution_count": 6,
   "metadata": {
    "collapsed": false
   },
   "outputs": [],
   "source": [
    "level = 4\n",
    "gamma = [integrate(x**i, (x, 0, 1)) for i in range(1, 2*level+1)]\n",
    "marginals = [x**i-N(gamma[i-1]) for i in range(1, 2*level+1)]"
   ]
  },
  {
   "cell_type": "markdown",
   "metadata": {},
   "source": [
    "Finally we define the objective function and the constraints that define the semialgebraic sets, and we generate and solve the relaxation."
   ]
  },
  {
   "cell_type": "code",
   "execution_count": 7,
   "metadata": {
    "collapsed": false
   },
   "outputs": [
    {
     "name": "stdout",
     "output_type": "stream",
     "text": [
      "-0.2500337409994734 -0.2500337409994734 optimal\n"
     ]
    }
   ],
   "source": [
    "f = -x*y**2\n",
    "inequalities = [1.0-x**2-y**2, 1-x, x, 1-y, y]\n",
    "\n",
    "sdp = SdpRelaxation([x, y], verbose=0)\n",
    "sdp.get_relaxation(level, objective=f, momentequalities=marginals,\n",
    "                   inequalities=inequalities)\n",
    "sdp.solve()\n",
    "print(sdp.primal, sdp.dual, sdp.status)\n",
    "coeffs = [sdp.extract_dual_value(0, range(len(inequalities)+1))]\n",
    "coeffs += [sdp.y_mat[len(inequalities)+1+2*i][0][0] - sdp.y_mat[len(inequalities)+1+2*i+1][0][0]\n",
    "           for i in range(len(marginals))]"
   ]
  },
  {
   "cell_type": "markdown",
   "metadata": {},
   "source": [
    "To check the correctness of the approximation, we plot the optimal and the approximated functions over the domain."
   ]
  },
  {
   "cell_type": "code",
   "execution_count": 8,
   "metadata": {
    "collapsed": false
   },
   "outputs": [
    {
     "data": {
      "image/png": "[encoded data removed]",
      "text/plain": [
       "<matplotlib.figure.Figure at 0x7f2c0e419b00>"
      ]
     },
     "metadata": {},
     "output_type": "display_data"
    }
   ],
   "source": [
    "x_domain = [i/100. for i in range(100)]\n",
    "plt.plot(x_domain, [J(xi) for xi in x_domain], linewidth=2.5)\n",
    "plt.plot(x_domain, [Jk(xi, coeffs) for xi in x_domain], linewidth=2.5)\n",
    "plt.show()"
   ]
  },
  {
   "cell_type": "markdown",
   "metadata": {},
   "source": [
    "*Example 2*\n",
    "\n",
    "The set $\\mathbf{X}=[0,1]$  remains the same. Let $\\mathbf{K}=\\{(x,y): 1-y_1^2-y_2^2\\geq 0\\}$, and $f(x,y) = xy_1 + (1-x)y_2$. Now the optimal $J(x)$ will be $-\\sqrt{x^2+(1-x)^2}$."
   ]
  },
  {
   "cell_type": "code",
   "execution_count": 9,
   "metadata": {
    "collapsed": false
   },
   "outputs": [
    {
     "name": "stdout",
     "output_type": "stream",
     "text": [
      "-0.8116610231088504 -0.8116610231088506 optimal\n"
     ]
    },
    {
     "data": {
      "image/png": "[encoded data removed]",
      "text/plain": [
       "<matplotlib.figure.Figure at 0x7f2c0e442c18>"
      ]
     },
     "metadata": {},
     "output_type": "display_data"
    }
   ],
   "source": [
    "def J(x):\n",
    "    return -sqrt(x**2+(1-x)**2)\n",
    "\n",
    "x = generate_variables('x')[0]\n",
    "y = generate_variables('y', 2)\n",
    "\n",
    "f = x*y[0] + (1-x)*y[1]\n",
    "\n",
    "gamma = [integrate(x**i, (x, 0, 1)) for i in range(1, 2*level+1)]\n",
    "marginals = [x**i-N(gamma[i-1]) for i in range(1, 2*level+1)]\n",
    "inequalities = [1-y[0]**2-y[1]**2, x, 1-x]\n",
    "sdp = SdpRelaxation(flatten([x, y]))\n",
    "sdp.get_relaxation(level, objective=f, momentequalities=marginals,\n",
    "                   inequalities=inequalities)\n",
    "sdp.solve()\n",
    "print(sdp.primal, sdp.dual, sdp.status)\n",
    "coeffs = [sdp.extract_dual_value(0, range(len(inequalities)+1))]\n",
    "coeffs += [sdp.y_mat[len(inequalities)+1+2*i][0][0] - sdp.y_mat[len(inequalities)+1+2*i+1][0][0]\n",
    "           for i in range(len(marginals))]\n",
    "plt.plot(x_domain, [J(xi) for xi in x_domain], linewidth=2.5)\n",
    "plt.plot(x_domain, [Jk(xi, coeffs) for xi in x_domain], linewidth=2.5)\n",
    "plt.show()"
   ]
  },
  {
   "cell_type": "markdown",
   "metadata": {},
   "source": [
    "*Example 3*\n",
    "\n",
    "Note that this is Example 4 in the paper. The set $\\mathbf{X}=[0,1]$  remains the same, whereas $\\mathbf{K}=\\{(x,y): xy_1^2+y_2^2-x= 0,  y_1^2+xy_2^2-x= 0\\}$, and $f(x,y) = (1-2x)(y_1+y_2)$. The optimal $J(x)$ is $-2|1-2x|\\sqrt{x/(1+x)}$. We enter the equalities as pairs of inequalities."
   ]
  },
  {
   "cell_type": "code",
   "execution_count": 10,
   "metadata": {
    "collapsed": false
   },
   "outputs": [
    {
     "name": "stdout",
     "output_type": "stream",
     "text": [
      "-0.5351878736018834 -0.5351883213682513 near_optimal\n"
     ]
    },
    {
     "data": {
      "image/png": "[encoded data removed]",
      "text/plain": [
       "<matplotlib.figure.Figure at 0x7f2bea094048>"
      ]
     },
     "metadata": {},
     "output_type": "display_data"
    }
   ],
   "source": [
    "def J(x):\n",
    "    return -2*abs(1-2*x)*sqrt(x/(1+x))\n",
    "\n",
    "x = generate_variables('x')[0]\n",
    "y = generate_variables('y', 2)\n",
    "f = (1-2*x)*(y[0] + y[1])\n",
    "\n",
    "gamma = [integrate(x**i, (x, 0, 1)) for i in range(1, 2*level+1)]\n",
    "marginals = [x**i-N(gamma[i-1]) for i in range(1, 2*level+1)]\n",
    "\n",
    "inequalities = [x*y[0]**2 + y[1]**2 - x,  - x*y[0]**2 - y[1]**2 + x,\n",
    "                y[0]**2 + x*y[1]**2 - x,  - y[0]**2 - x*y[1]**2 + x,\n",
    "                1-x, x]\n",
    "sdp = SdpRelaxation(flatten([x, y]))\n",
    "sdp.get_relaxation(level, objective=f, momentequalities=marginals,\n",
    "                   inequalities=inequalities)\n",
    "sdp.solve(solver=\"mosek\")\n",
    "print(sdp.primal, sdp.dual, sdp.status)\n",
    "coeffs = [sdp.extract_dual_value(0, range(len(inequalities)+1))]\n",
    "coeffs += [sdp.y_mat[len(inequalities)+1+2*i][0][0] - sdp.y_mat[len(inequalities)+1+2*i+1][0][0]\n",
    "           for i in range(len(marginals))]\n",
    "plt.plot(x_domain, [J(xi) for xi in x_domain], linewidth=2.5)\n",
    "plt.plot(x_domain, [Jk(xi, coeffs) for xi in x_domain], linewidth=2.5)\n",
    "plt.show()"
   ]
  },
  {
   "cell_type": "markdown",
   "metadata": {},
   "source": [
    "Bilevel problem of nonconvex lower level\n",
    "------------------------------------------------------\n",
    "We define the bilevel problem as follows:\n",
    "$$ \\min_{x\\in\\mathbb{R}^n, y\\in\\mathbb{R}^m}f(x,y)$$\n",
    "such that\n",
    "$$g_i(x, y) \\geq 0, i=1,\\ldots,s,\\\\\n",
    "y\\in Y(x)=\\mathrm{argmin}_{w\\in\\mathbb{R}^m}\\{G(x,w): h_j(w)\\geq 0, j=1,...,r\\}.$$\n",
    "\n",
    "The more interesting case is when the when the lower level problem's objective function $G(x,y)$ is nonconvex. We consider the $\\epsilon$-approximation of this case:\n",
    "\n",
    "$$ \\min_{x\\in\\mathbb{R}^n, y\\in\\mathbb{R}^m}f(x,y)$$\n",
    "such that\n",
    "$$g_i(x, y) \\geq 0, i=1,\\ldots,s,\\\\\n",
    "h_j(y) \\geq 0, j=1,\\dots, r,\\\\\n",
    "G(x,y) - \\mathrm{min}_{w\\in\\mathbb{R}^m}\\{G(x,w): h_j(w)\\geq 0, j=1,...,r\\}\\leq \\epsilon.$$\n",
    "\n",
    "This approximation will give an [increasing lower bound](http://arxiv.org/abs/1506.02099)) on the original problem. The min function on the right of $G(x,y)$ is essentially a parametric polynomial optimization problem, that is, our task is to find $J(x)$. We have to ensure that the parameter set is compact, so we add a set of constraints on the coordinates of $x$: $\\{M^2-x_l^2\\geq 0, l=1,\\ldots,n\\}$ for some $M>0$.\n",
    "\n",
    "The idea is that we relax this as an SDP at some level $k$ and fixed $\\epsilon$ to obtain the following single-level polynomial optimization problem:\n",
    "$$ \\min_{x\\in\\mathbb{R}^n, y\\in\\mathbb{R}^m}f(x,y)$$\n",
    "such that\n",
    "$$g_i(x, y) \\geq 0, i=1,\\ldots,s,\\\\\n",
    "h_j(y) \\geq 0, j=1,\\dots, r,\\\\\n",
    "G(x,y) - J_k(x)\\leq \\epsilon.$$\n",
    "\n",
    "Then we relax this is an another SDP at level $k$.\n",
    "\n",
    "Consider a test problem defined as follows:\n",
    "$$ \\min_{(x,y)\\in\\mathbb{R}^2} x+y$$\n",
    "such that\n",
    "$$x\\in[-1,1], \\\\\n",
    "y\\in \\mathrm{argmin}_{w\\in\\mathbb{R}^m}\\{\\frac{xy^2}{2}-\\frac{y^3}{3}, y\\in[-1,1]\\}$$.\n",
    "\n",
    "This is clearly a bilevel problem. We set up the necessary variables and constraints, requesting a level-3 relaxation, and also fixing $\\epsilon$ and a choice of $M$."
   ]
  },
  {
   "cell_type": "code",
   "execution_count": 11,
   "metadata": {
    "collapsed": true
   },
   "outputs": [],
   "source": [
    "x = generate_variables('x')[0]\n",
    "y = generate_variables('y')[0]\n",
    "\n",
    "f = x + y\n",
    "g = [x <= 1.0, x >= -1.0]\n",
    "G = x*y**2/2.0 - y**3/3.0\n",
    "h = [y <= 1.0, y >= -1.0]\n",
    "epsilon = 0.001\n",
    "M = 1.0\n",
    "level = 3"
   ]
  },
  {
   "cell_type": "markdown",
   "metadata": {},
   "source": [
    "We define the relaxation of the parametric polynomial optimization problem that returns an approximation of $J(x)$ from the dual:"
   ]
  },
  {
   "cell_type": "code",
   "execution_count": 12,
   "metadata": {
    "collapsed": true
   },
   "outputs": [],
   "source": [
    "def lower_level(k, G, h, M):\n",
    "    gamma = [integrate(x**i, (x, -M, M))/(2*M) for i in range(1, 2*k+1)]\n",
    "    marginals = [x**i-N(gamma[i-1]) for i in range(1, 2*k+1)]\n",
    "    inequalities = h + [x**2 <= M**2]\n",
    "    lowRelaxation = SdpRelaxation([x, y])\n",
    "    lowRelaxation.get_relaxation(k, objective=G,\n",
    "                                 momentequalities=marginals,\n",
    "                                 inequalities=inequalities)\n",
    "    lowRelaxation.solve()\n",
    "    print(\"Low-level:\", lowRelaxation.primal, lowRelaxation.dual, lowRelaxation.status)\n",
    "    coeffs = []\n",
    "    for i in range(len(marginals)):\n",
    "        coeffs.append(lowRelaxation.y_mat[len(inequalities)+1+2*i][0][0] -\n",
    "                      lowRelaxation.y_mat[len(inequalities)+1+2*i+1][0][0])\n",
    "    blocks = [i for i in range(len(inequalities)+1)]\n",
    "    constant = lowRelaxation.extract_dual_value(0, blocks)\n",
    "    return constant + sum(ci*x**(i+1) for i, ci in enumerate(coeffs))"
   ]
  },
  {
   "cell_type": "markdown",
   "metadata": {},
   "source": [
    "Finally, we put it all togetger:"
   ]
  },
  {
   "cell_type": "code",
   "execution_count": 13,
   "metadata": {
    "collapsed": false
   },
   "outputs": [
    {
     "name": "stdout",
     "output_type": "stream",
     "text": [
      "Low-level: -0.3506176102365808 -0.3506180235696157 unknown\n",
      "High-level: -0.002799729409340146 unknown\n",
      "Optimal x and y: -1.0 0.9972\n"
     ]
    }
   ],
   "source": [
    "Jk = lower_level(level, G, h, M)\n",
    "inequalities = g + h + [G - Jk <= epsilon]\n",
    "highRelaxation = SdpRelaxation([x, y], verbose=0)\n",
    "highRelaxation.get_relaxation(level, objective=f,\n",
    "                              inequalities=inequalities)\n",
    "highRelaxation.solve()\n",
    "print(\"High-level:\", highRelaxation.primal, highRelaxation.status)\n",
    "print(\"Optimal x and y:\", highRelaxation[x], highRelaxation[y])\n"
   ]
  },
  {
   "cell_type": "markdown",
   "metadata": {
    "collapsed": true
   },
   "source": [
    "These values are close to the analytical solution."
   ]
  }
 ],
 "metadata": {
  "kernelspec": {
   "display_name": "Python 3",
   "language": "python",
   "name": "python3"
  },
  "language_info": {
   "codemirror_mode": {
    "name": "ipython",
    "version": 3
   },
   "file_extension": ".py",
   "mimetype": "text/x-python",
   "name": "python",
   "nbconvert_exporter": "python",
   "pygments_lexer": "ipython3",
   "version": "3.5.0"
  }
 },
 "nbformat": 4,
 "nbformat_minor": 0
}
