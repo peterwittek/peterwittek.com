{
 "metadata": {
  "name": "",
  "signature": "sha256:aebb2147df35f404f956558287315ee5545628bab7c1b5ba25f8349518e83f1d"
 },
 "nbformat": 3,
 "nbformat_minor": 0,
 "worksheets": [
  {
   "cells": [
    {
     "cell_type": "markdown",
     "metadata": {},
     "source": [
      "We still do not quite have a [Mathematica](http://www.wolfram.com/mathematica/) killer, but we are inching closer. [Sage](http://www.sagemath.org/index.html) is supposed to fill that niche, but I always found its browser-based notebook interface tedious. [Spyder](https://code.google.com/p/spyderlib/), on the other hand, is a nifty piece of software. Combined with a couple of other tools, it is set to become an indispensible tool for symbolic calculations, and it is also has a collection of slick features that Mathematica does not.\n",
      "\n",
      "Preliminaries\n",
      "-------------\n",
      "The discussion uses Spyder 2.2.1, [IPython](http://www.ipython.org/) 0.13.2, Python 2.7.5, [SymPy](http://sympy.org/) 0.7.3, [NumPy](http://www.numpy.org/) 1.7.1, and [Matplotlib](http://matplotlib.org/) 1.3.0. To enable symbolic calculations and nice printing, tick Tools->Configuration->IPython console->Advanced Settings->Use symbolic math. The disadvantage of this that if you restart the IPython console, you may not get your SymPy libraries back. In this case, set up the IPython startup file accordingly, and also at this to ~/.config/ipython/profile_default/ipython_config.py:\n",
      "\n",
      "    c.InteractiveShellApp.extra_extension = sympy.interactive.ipythonprinting\n",
      "\n",
      "This formats mathematical formulae nicely.\n",
      "\n",
      "For decent plotting, activate Tools->Configuration->IPython console->Support for graphics (Pylab). It is also a good idea to automatically load Pylab and NumPy.\n",
      "\n",
      "Interface\n",
      "---------\n",
      "The main window of Spyder is a hybrid between Mathematica and Matlab. Most action happens in the IPython console, which numbers inputs and outputs just like Mathematica. Moving to previously issued commands is more bash-like. The IPython shell's content can be saved, but only the instructions -- internal states are not preserved. You are also augmented by an editor and a history log, so you can easily fish out the relevant bits and save them to a script. While Mathematica's notebook interface reigns king, it is much easier to write reproducible code this way.\n",
      "\n",
      "[<center>![The main window of Spyder](http://peterwittek.com/images/spyder_main_window-300x165.png)</center>](http://peterwittek.com/images/spyder_main_window.png)\n",
      "<center>The main window of Spyder</center>\n",
      "\n",
      "The editor itself is okay. Basic Python idiosyncrasies, such as indentations and the occasional colon, are catered for, and there is also simple spelling completion. A neat shortcut is F9, which runs the current selection. Otherwise F5 will run the current script, and Ctrl+F6 will run the previous execution.\n",
      "\n",
      "The IPython console prints mathematical formulae the way we like them:"
     ]
    },
    {
     "cell_type": "code",
     "collapsed": false,
     "input": [
      "diff(sin(x*y)**x,x)"
     ],
     "language": "python",
     "metadata": {},
     "outputs": [
      {
       "latex": [
        "$$\\left(\\frac{x y \\cos{\\left (x y \\right )}}{\\sin{\\left (x y \\right )}} + \\log{\\left (\\sin{\\left (x y \\right )} \\right )}\\right) \\sin^{x}{\\left (x y \\right )}$$"
       ],
       "metadata": {},
       "output_type": "pyout",
       "png": "[encoded data removed]",
       "prompt_number": 1,
       "text": [
        "\u239bx\u22c5y\u22c5cos(x\u22c5y)                \u239e    x     \n",
        "\u239c\u2500\u2500\u2500\u2500\u2500\u2500\u2500\u2500\u2500\u2500\u2500\u2500 + log(sin(x\u22c5y))\u239f\u22c5sin (x\u22c5y)\n",
        "\u239d  sin(x\u22c5y)                  \u23a0          "
       ]
      }
     ],
     "prompt_number": 1
    },
    {
     "cell_type": "markdown",
     "metadata": {},
     "source": [
      "Plots are either displayed in-line (Mathematica style), or in a window, like in Matlab:\n",
      "\n",
      "<center>[![Spyder plot](http://peterwittek.com/images/spyder_plot.png)](http://matplotlib.org/mpl_examples/images_contours_and_fields/streamplot_demo_features.py)</center>\n",
      "<center>Spyder plot</center>\n",
      "\n",
      "Symbolic Calculations\n",
      "---------------------\n",
      "SymPy takes care of symbolic manipulations. It is quite efficient, its performance is comparable to the C++ library SymbolicC++. It does numerical evaluation only when it is asked to, just like Mathematica:"
     ]
    },
    {
     "cell_type": "code",
     "collapsed": false,
     "input": [
      "sqrt(2)*pi"
     ],
     "language": "python",
     "metadata": {},
     "outputs": [
      {
       "latex": [
        "$$\\sqrt{2} \\pi$$"
       ],
       "metadata": {},
       "output_type": "pyout",
       "png": "[encoded data removed]",
       "prompt_number": 2,
       "text": [
        "  ___  \n",
        "\u2572\u2571 2 \u22c5\u03c0"
       ]
      }
     ],
     "prompt_number": 2
    },
    {
     "cell_type": "code",
     "collapsed": false,
     "input": [
      "N(sqrt(2)*pi)"
     ],
     "language": "python",
     "metadata": {},
     "outputs": [
      {
       "latex": [
        "$$4.44288293815837$$"
       ],
       "metadata": {},
       "output_type": "pyout",
       "png": "[encoded data removed]",
       "prompt_number": 3,
       "text": [
        "4.44288293815837"
       ]
      }
     ],
     "prompt_number": 3
    },
    {
     "cell_type": "markdown",
     "metadata": {},
     "source": [
      "Simplify and expand are here to solve your grade-five algebra homework:"
     ]
    },
    {
     "cell_type": "code",
     "collapsed": false,
     "input": [
      "from sympy import sin, cos, simplify\n",
      "a = (x + x**2)/(x*sin(y)**2 + x*cos(y)**2)\n",
      "a"
     ],
     "language": "python",
     "metadata": {},
     "outputs": [
      {
       "latex": [
        "$$\\frac{x^{2} + x}{x \\sin^{2}{\\left (y \\right )} + x \\cos^{2}{\\left (y \\right )}}$$"
       ],
       "metadata": {},
       "output_type": "pyout",
       "png": "[encoded data removed]",
       "prompt_number": 4,
       "text": [
        "         2           \n",
        "        x  + x       \n",
        "\u2500\u2500\u2500\u2500\u2500\u2500\u2500\u2500\u2500\u2500\u2500\u2500\u2500\u2500\u2500\u2500\u2500\u2500\u2500\u2500\u2500\n",
        "     2           2   \n",
        "x\u22c5sin (y) + x\u22c5cos (y)"
       ]
      }
     ],
     "prompt_number": 4
    },
    {
     "cell_type": "code",
     "collapsed": false,
     "input": [
      "simplify(a)"
     ],
     "language": "python",
     "metadata": {},
     "outputs": [
      {
       "latex": [
        "$$x + 1$$"
       ],
       "metadata": {},
       "output_type": "pyout",
       "png": "[encoded data removed]",
       "prompt_number": 5,
       "text": [
        "x + 1"
       ]
      }
     ],
     "prompt_number": 5
    },
    {
     "cell_type": "code",
     "collapsed": false,
     "input": [
      "((x + y + z)**2).expand(basic=True)"
     ],
     "language": "python",
     "metadata": {},
     "outputs": [
      {
       "latex": [
        "$$x^{2} + 2 x y + 2 x z + y^{2} + 2 y z + z^{2}$$"
       ],
       "metadata": {},
       "output_type": "pyout",
       "png": "[encoded data removed]",
       "prompt_number": 6,
       "text": [
        " 2                    2            2\n",
        "x  + 2\u22c5x\u22c5y + 2\u22c5x\u22c5z + y  + 2\u22c5y\u22c5z + z "
       ]
      }
     ],
     "prompt_number": 6
    },
    {
     "cell_type": "markdown",
     "metadata": {},
     "source": [
      "Limits also work:"
     ]
    },
    {
     "cell_type": "code",
     "collapsed": false,
     "input": [
      "from sympy import limit\n",
      "limit(1/x,x,oo)"
     ],
     "language": "python",
     "metadata": {},
     "outputs": [
      {
       "latex": [
        "$$0$$"
       ],
       "metadata": {},
       "output_type": "pyout",
       "png": "[encoded data removed]",
       "prompt_number": 7,
       "text": [
        "0"
       ]
      }
     ],
     "prompt_number": 7
    },
    {
     "cell_type": "markdown",
     "metadata": {},
     "source": [
      "Sympy also has functions for more advanced applications, such as [Hermitian Operators](http://peterwittek.com/2013/05/generating-noncommutative-monomials-with-sympy/) for quantum physics simulations.\n",
      "\n",
      "Functional Programming\n",
      "----------------------\n",
      "Mathematica is first and foremost a functional programming language, but due to its highly opportunistic nature, it also caters to procedural programmers. Python is just about that opportunistic, throwing in object-oriented models in the mix.\n",
      "\n",
      "Mathematica's almighty Map function has a rough equivalent in the Pythonesque list comprehensions. In Mathematica, you write:\n",
      "\n",
      "![#^2 & /@ {x, y, z}](http://peterwittek.com/images/mathematica_map1.png)\n",
      "<center></center>\n",
      "\n",
      "The Python variant is:"
     ]
    },
    {
     "cell_type": "code",
     "collapsed": false,
     "input": [
      "[ s**2 for s in [x, y, z]]"
     ],
     "language": "python",
     "metadata": {},
     "outputs": [
      {
       "latex": [
        "$$\\left [ x^{2}, \\quad y^{2}, \\quad z^{2}\\right ]$$"
       ],
       "metadata": {},
       "output_type": "pyout",
       "png": "[encoded data removed]",
       "prompt_number": 8,
       "text": [
        "\u23a1 2   2   2\u23a4\n",
        "\u23a3x , y , z \u23a6"
       ]
      }
     ],
     "prompt_number": 8
    },
    {
     "cell_type": "markdown",
     "metadata": {},
     "source": [
      "Python may also use a map function to the same extent.\n",
      "\n",
      "The lambda operator was introduced for creating anonymous functions -- this is similar to Mathematica's pure function (&). While pure functions dot every Mathematica notebook, lambda functions are far clunkier to use. They come handy in some cases:"
     ]
    },
    {
     "cell_type": "code",
     "collapsed": false,
     "input": [
      "map(lambda x: x%3 == 0, [1, 2, 3])"
     ],
     "language": "python",
     "metadata": {},
     "outputs": [
      {
       "metadata": {},
       "output_type": "pyout",
       "prompt_number": 9,
       "text": [
        "[False, False, True]"
       ]
      }
     ],
     "prompt_number": 9
    },
    {
     "cell_type": "markdown",
     "metadata": {},
     "source": [
      "``MapIndexed`` can be emulated by the enumerate function:"
     ]
    },
    {
     "cell_type": "code",
     "collapsed": false,
     "input": [
      "[[a,i] for i, a in enumerate([sqrt(2), pi, x])]"
     ],
     "language": "python",
     "metadata": {},
     "outputs": [
      {
       "latex": [
        "$$\\left [ \\left [ \\sqrt{2}, \\quad 0\\right ], \\quad \\left [ \\pi, \\quad 1\\right ], \\quad \\left [ x, \\quad 2\\right ]\\right ]$$"
       ],
       "metadata": {},
       "output_type": "pyout",
       "png": "[encoded data removed]",
       "prompt_number": 10,
       "text": [
        "\u23a1\u23a1  ___   \u23a4                \u23a4\n",
        "\u23a3\u23a3\u2572\u2571 2 , 0\u23a6, [\u03c0, 1], [x, 2]\u23a6"
       ]
      }
     ],
     "prompt_number": 10
    },
    {
     "cell_type": "markdown",
     "metadata": {},
     "source": [
      "Do not have high expectations, though. Functional programming in Python was an afterthought. Nest and FixedPoint would be nice to have.\n",
      "\n",
      "Mathematica has nice parallel routines, and lets you launch parallel kernels. The solution is not spectacularly great, for instance, parallel kernels go through a different initialization than the default kernel. Yet it is nice that if you adhere to the functional programming paradigm, your code will more or less automatically run in parallel. With a bit of extra work, IPython can do something similar. If you have four cores, then launch an IPython parallel controller with four engines:\n",
      "\n",
      "    $ ipcluster start -n 4\n",
      "\n",
      "This starts the engines and creates a couple of files in ~/.config/ipython/profile_default/security. Those files will be parsed when you start the IPython shell. Then create a parallel environment in the shell:\n",
      "\n",
      "    from IPython.parallel import Client\n",
      "    rc = Client()\n",
      "    dview = rc[:]\n",
      "\n",
      "You are ready to use your parallel map function:\n",
      "    \n",
      "    dview.map_sync(lambda x: x**10, range(32))\n",
      "    \n",
      "What Mathematica Cannot Do\n",
      "--------------------------\n",
      "Mathematica will never tell you how it arrived at a result. Given that the tools used here are open source, if you have enough time, you can always figure how a particular result was derived. A caveat: 'enough time' might be a period longer than your life span.\n",
      "\n",
      "Theoretically Spyder could [run on my phone](http://peterwittek.com/2013/09/computer-algebra-system-on-a-cell-phone/). It requires bootstrapping a Linux and starting X in the framebuffer. None of this is rocket science, but I have not tried it yet. VNC-based solutions to run X as a virtual screen are inefficient.\n",
      "\n",
      "At the other end of the spectrum, if you have your code developed and you would like to run it on an HPC workstation, there is nothing preventing you from doing so. Say, you know your symbolic calculations are memory-hungry, then launch a [cr1.8xlarge](https://aws.amazon.com/ec2/instance-types/#instance-details) instance on Amazon Web Services with 244 GByte of memory, do some basic configuration, and launch your code. Mathematica ties your hands with licences, you cannot just upload your copy to a workstation of your choice. While the Mathematica Player is free and it comes with the full Mathematica kernel, its primary purpose is interaction, not headless execution on a cloud-based server.\n",
      "\n",
      "IPython bridges different levels of the software stack. I can do a symbolic integral, then run a bash command:"
     ]
    },
    {
     "cell_type": "code",
     "collapsed": false,
     "input": [
      "from IPython.core.display import display\n",
      "display(integrate(sin(x),x))\n",
      "!uname"
     ],
     "language": "python",
     "metadata": {},
     "outputs": [
      {
       "latex": [
        "$$- \\cos{\\left (x \\right )}$$"
       ],
       "metadata": {},
       "output_type": "display_data",
       "png": "[encoded data removed]",
       "text": [
        "-cos(x)"
       ]
      },
      {
       "output_type": "stream",
       "stream": "stdout",
       "text": [
        "Linux\r\n"
       ]
      }
     ],
     "prompt_number": 11
    },
    {
     "cell_type": "markdown",
     "metadata": {},
     "source": [
      "I cannot come up with an obvious application scenario, but executing external commands in Mathematica was always troublesome.\n",
      "\n",
      "Debugging is not a strength of Mathematica, perhaps under the assumption that good functional programmers never-ever make a mistake. Spyder is more realistic in this regard. Breakpoins, conditional breakpoints, and the usual assortment of debugging tools are at your fingertips. You may also have a chance that you get meaningful error messages, which seldom happens with Mathematica (and never with GCC).\n",
      "\n",
      "Grievances\n",
      "----------\n",
      "Most issues go back to Python itself and have nothing to do with Spyder per se. One exception is the way to break execution in the IPython console. This is annoying. The IPython interpreter is split in two tabs: the client where you issue commands, receive output and error message, and do all your work, and a 'console', where the execution takes place. Breaking the execution is a stochastic process: keep pressing Control+C in the console and the client, and hope that your execution stops. Strange enough, Mathematica suffers from similar problems. While Alt+, and Alt+. normally work, these shortcuts will fail you miserably if you are plotting an intricate diagram. This only got worse in recent Mathematica versions, as Wolfram is keen on separating the kernel and and the graphics engine, leading to frequent freezes of the interface. ``ListPlot3D`` is the worst offender.\n",
      "\n",
      "Forget multicore execution with Python. Python's Global Interpreter Lock will not let you get away with simple solutions, unless you can express the problem in functional programming terms. You must run multiple Python processes to have parallelism, and then the onus is yours to organize communication, share data, pass messages, and so on. OpenMP? Not for Python. Crazy as it is, C code is easier to parallelize than Python.\n",
      "\n",
      "A curse of Python is the proliferation of mutually incompatible interpreters. The Mathematica kernel does not suffer from this, and if there are changes which are not backward compatible, the interface guides you through the changes required in your notebook. With Python, your only option is to cross your fingers and hope your code will not break between versions x.y.z.a.b.c and x.y.z.a.b.d.\n",
      "\n",
      "Performance is not outstanding, but it is not terrible either. If you are among the lucky few, then your code will work with Pypy. Executing a programme with Pypy can be four to six times faster than with the default CPython interpreter. Let us not talk about memory use, though, that is bound to be abysmal with any given Python interpreter or compiler."
     ]
    }
   ],
   "metadata": {}
  }
 ]
}