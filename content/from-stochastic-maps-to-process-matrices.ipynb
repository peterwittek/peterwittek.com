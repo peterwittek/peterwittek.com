{
 "cells": [
  {
   "cell_type": "markdown",
   "metadata": {},
   "source": [
    "1. Introduction\n",
    "===============\n",
    "It took me a while to understand process matrices. Part of the problem is a lack of introductory level material that would explain the similarities and differences between the classical and quantum case across the board -- starting from transformations on classical probability distributions to quantum combs and process matrices. Since process matrices are useful constructs, it is worth addressing this problem, along with snippets of Python code to illustrate the concepts as we go. This article will forgo mathematical rigour, favouring intuition instead, and the attention is restricted to finite dimensional systems.\n",
    "\n",
    "First, we import everything we will use."
   ]
  },
  {
   "cell_type": "code",
   "execution_count": 1,
   "metadata": {
    "ExecuteTime": {
     "end_time": "2018-04-02T21:00:42.638624Z",
     "start_time": "2018-04-02T21:00:40.926320Z"
    }
   },
   "outputs": [],
   "source": [
    "import itertools\n",
    "import numpy as np\n",
    "from qutip import basis, cnot, dag, expect, hadamard_transform, ket2dm, \\\n",
    "    partial_transpose, qeye, Qobj, sigmax, sigmay, sigmaz, swap, tensor, to_choi\n",
    "np.set_printoptions(suppress=True, precision=3)"
   ]
  },
  {
   "cell_type": "markdown",
   "metadata": {},
   "source": [
    "2. Classical probability theory and stochastic matrix\n",
    "=====================================================\n",
    "Let us starting from the measure theoretic approach to probability theory. Given an arbitrary set $\\Omega$ (the sample space), we take an $\\mathcal{F}$ and a $\\sigma$-algebra on it. A measure $P$ defined on $\\mathcal{F}$ is a probability measure if it is normalized to one on the entire sample space, that is, $P(\\Omega ) = 1$. A random variable $X$ maps from the sample space to some measurable space $E$, that is  $X: \\Omega \\to E$. The probability that X takes values in a measurable set $S\\subseteq E$ is $\\operatorname {Pr} (X\\in S)=P(\\{\\omega \\in \\Omega |X(\\omega )\\in S\\})$.\n",
    "\n",
    "A discrete probability distribution is the collection of values of the measure of pre-images of random variables, inducing a probability mass function $f_{X}(S):=P(X^{-1}(S))$, where $S$ is countable. It can be written as a vector where the elements add up to one, and all elements are non-negative. The normalization is essentially a constraint on the $\\mathcal{l}_1$ norm. This is called the probability vector or *stochastic vector*. A left *stochastic matrix* will map stochastic vectors to stochastic vectors when multiplied from the left. In other words, it maps probability distributions to probability distributions. For example, starting with a unbiased coin, the map $M$ will transform the distribution to a biased coin:"
   ]
  },
  {
   "cell_type": "code",
   "execution_count": 2,
   "metadata": {
    "ExecuteTime": {
     "end_time": "2018-04-02T21:01:13.132993Z",
     "start_time": "2018-04-02T21:01:12.998620Z"
    }
   },
   "outputs": [
    {
     "data": {
      "text/plain": [
       "array([ 0.65,  0.35])"
      ]
     },
     "execution_count": 2,
     "metadata": {},
     "output_type": "execute_result"
    }
   ],
   "source": [
    "p = np.array([.5, .5])\n",
    "M = np.array([[0.7, 0.6], [0.3, 0.4]])\n",
    "M.dot(p)"
   ]
  },
  {
   "cell_type": "markdown",
   "metadata": {},
   "source": [
    "Stochastic maps are frequently used in stochastic processes, which is a collection of time-dependent random variables defined over the same probability space."
   ]
  },
  {
   "cell_type": "markdown",
   "metadata": {},
   "source": [
    "3. Unitary evolution of quantum systems\n",
    "=======================================\n",
    "One, somewhat sloppy way of thinking about quantum states is that they are probability distributions where instead of the real-valued stochastic vectors, we have complex-valued vectors, and the normalization to the unit sphere is in the $\\mathcal{l}_2$-norm, instead of the $\\mathcal{l}_1$-norm of stochastic vectors. This property naturally leads to the trace-1 requirement of density matrices. Let's consider the following state in the two-qubit state $\\mathbb{C}^2\\otimes\\mathbb{C}^2$:"
   ]
  },
  {
   "cell_type": "code",
   "execution_count": 3,
   "metadata": {
    "ExecuteTime": {
     "end_time": "2018-04-02T21:01:15.290397Z",
     "start_time": "2018-04-02T21:01:15.274349Z"
    }
   },
   "outputs": [
    {
     "data": {
      "text/plain": [
       "1.0"
      ]
     },
     "execution_count": 3,
     "metadata": {},
     "output_type": "execute_result"
    }
   ],
   "source": [
    "ψ0 = tensor(basis(2, 0), basis(2, 0))\n",
    "ψ0.norm()"
   ]
  },
  {
   "cell_type": "markdown",
   "metadata": {},
   "source": [
    "Just like a stochastic matrix maps probability distributions to distributions, unitary operators map quantum states to quantum states. Take the following unitary operator acting on the two qubit state:"
   ]
  },
  {
   "cell_type": "code",
   "execution_count": 4,
   "metadata": {
    "ExecuteTime": {
     "end_time": "2018-04-02T21:01:16.375062Z",
     "start_time": "2018-04-02T21:01:16.357457Z"
    }
   },
   "outputs": [],
   "source": [
    "U = cnot(2)*tensor(hadamard_transform(1), qeye(2))"
   ]
  },
  {
   "cell_type": "markdown",
   "metadata": {},
   "source": [
    "This will create the maximally entangled state if it acts on $\\psi_0$. We can easily verify this:"
   ]
  },
  {
   "cell_type": "code",
   "execution_count": 5,
   "metadata": {
    "ExecuteTime": {
     "end_time": "2018-04-02T21:01:17.115961Z",
     "start_time": "2018-04-02T21:01:17.090630Z"
    }
   },
   "outputs": [
    {
     "name": "stdout",
     "output_type": "stream",
     "text": [
      "True\n"
     ]
    }
   ],
   "source": [
    "ψ1 = U*ψ0\n",
    "ϕ = (tensor(basis(2, 0), basis(2, 0)) + tensor(basis(2, 1), basis(2, 1))).unit()\n",
    "print(ϕ == ψ1)"
   ]
  },
  {
   "cell_type": "markdown",
   "metadata": {},
   "source": [
    "We can also easily verify unitarity:"
   ]
  },
  {
   "cell_type": "code",
   "execution_count": 6,
   "metadata": {
    "ExecuteTime": {
     "end_time": "2018-04-02T21:01:18.105621Z",
     "start_time": "2018-04-02T21:01:18.093483Z"
    }
   },
   "outputs": [
    {
     "data": {
      "text/plain": [
       "True"
      ]
     },
     "execution_count": 6,
     "metadata": {},
     "output_type": "execute_result"
    }
   ],
   "source": [
    "U.dag()*ψ1 == ψ0"
   ]
  },
  {
   "cell_type": "markdown",
   "metadata": {},
   "source": [
    "The same ideas in the density matrix formalism:"
   ]
  },
  {
   "cell_type": "code",
   "execution_count": 7,
   "metadata": {
    "ExecuteTime": {
     "end_time": "2018-04-02T21:01:18.984986Z",
     "start_time": "2018-04-02T21:01:18.962747Z"
    }
   },
   "outputs": [
    {
     "name": "stdout",
     "output_type": "stream",
     "text": [
      "True\n",
      "True\n"
     ]
    }
   ],
   "source": [
    "ρ1 = U*ket2dm(ψ0)*U.dag()\n",
    "print(ket2dm(ϕ) == ρ1)\n",
    "print(U.dag()*ρ1*U == ket2dm(ψ0))"
   ]
  },
  {
   "cell_type": "markdown",
   "metadata": {},
   "source": [
    "Unitary maps are not the only maps acting on quantum states that yield quantum states. To generalize the formalism, first we have to introduce measurements."
   ]
  },
  {
   "cell_type": "markdown",
   "metadata": {},
   "source": [
    "4. Measurements\n",
    "==============="
   ]
  },
  {
   "cell_type": "markdown",
   "metadata": {},
   "source": [
    "A projection-valued measure on a measurable space (X, M), where M is a $\\sigma$-algebra of subsets of X, is a mapping $\\Pi$ from M to the set of self-adjoint projections on a Hilbert space H (i.e. the orthogonal projections) such that\n",
    "\n",
    "$\\Pi (X)=\\operatorname {id} _{H}\\quad $\n",
    "\n",
    "(where id H $\\operatorname {id} _{H}$ is the identity operator of $H$) and for every $\\xi, \\eta \\in H$, the set-function\n",
    "\n",
    "$ E\\mapsto \\langle \\Pi (E)\\xi \\mid \\eta \\rangle$\n",
    "\n",
    "is a complex measure on M. If π is a projection-valued measure and $E\\cap F=\\emptyset$, then the images $\\Pi(E)$, $\\Pi(F)$ are orthogonal to each other.\n",
    "\n",
    "The measurable space $X$ is the value space for some quantum property of the system (an *observable* or *measurement*), and the projection-valued measure $\\Pi$ expresses the probability that the observable takes on various values. The probability that the observable takes its value in E given the system in state $\\phi$ is\n",
    "\n",
    "$P=\\langle \\phi |\\Pi (E)|\\phi \\rangle$\n",
    "\n",
    "One important point to note is that the quantum state is embedded in the probability measure. The values of the observable are essentially random variables. The terminology is confusing: a measurement (or observable) in quantum mechanics is made up of operator-valued measures, and by defining the probability measure as above, we map an assignment $\\Pi(E)$ to the usual real-valued probability.\n",
    "\n",
    "Let's define a measurement, the projection operators to the computational basis in the first qubit of a two-qubit space."
   ]
  },
  {
   "cell_type": "code",
   "execution_count": 8,
   "metadata": {
    "ExecuteTime": {
     "end_time": "2018-04-02T21:01:21.629693Z",
     "start_time": "2018-04-02T21:01:21.613533Z"
    }
   },
   "outputs": [],
   "source": [
    "Π = [tensor(ket2dm(basis(2, 0)), qeye(2)), tensor(ket2dm(basis(2, 1)), qeye(2))]"
   ]
  },
  {
   "cell_type": "markdown",
   "metadata": {},
   "source": [
    "According to he above, the probability of measuring $|0\\rangle$ is "
   ]
  },
  {
   "cell_type": "code",
   "execution_count": 9,
   "metadata": {
    "ExecuteTime": {
     "end_time": "2018-04-02T21:01:24.476975Z",
     "start_time": "2018-04-02T21:01:24.459190Z"
    }
   },
   "outputs": [
    {
     "data": {
      "text/latex": [
       "Quantum object: dims = [[1], [1]], shape = (1, 1), type = bra\\begin{equation*}\\left(\\begin{array}{*{11}c}0.500\\\\\\end{array}\\right)\\end{equation*}"
      ],
      "text/plain": [
       "Quantum object: dims = [[1], [1]], shape = (1, 1), type = bra\n",
       "Qobj data =\n",
       "[[ 0.5]]"
      ]
     },
     "execution_count": 9,
     "metadata": {},
     "output_type": "execute_result"
    }
   ],
   "source": [
    "ψ1.dag()*Π[0]*ψ1"
   ]
  },
  {
   "cell_type": "markdown",
   "metadata": {},
   "source": [
    "Equivalently, we can calculate the values in the density matrix formalism by taking the trace, $\\operatorname{tr}[\\Pi_i\\rho]$:"
   ]
  },
  {
   "cell_type": "code",
   "execution_count": 10,
   "metadata": {
    "ExecuteTime": {
     "end_time": "2018-04-02T21:01:25.513546Z",
     "start_time": "2018-04-02T21:01:25.498975Z"
    }
   },
   "outputs": [
    {
     "data": {
      "text/plain": [
       "(0.5000000000000001+0j)"
      ]
     },
     "execution_count": 10,
     "metadata": {},
     "output_type": "execute_result"
    }
   ],
   "source": [
    "(Π[0]*ket2dm(ψ1)).tr()"
   ]
  },
  {
   "cell_type": "markdown",
   "metadata": {},
   "source": [
    "Qutip can calculate the values irrespective of the representation with the function `expect`:"
   ]
  },
  {
   "cell_type": "code",
   "execution_count": 11,
   "metadata": {
    "ExecuteTime": {
     "end_time": "2018-04-02T21:01:26.285261Z",
     "start_time": "2018-04-02T21:01:26.270717Z"
    }
   },
   "outputs": [
    {
     "name": "stdout",
     "output_type": "stream",
     "text": [
      "0.5000000000000001\n",
      "0.5000000000000001\n"
     ]
    }
   ],
   "source": [
    "print(expect(Π[0], ψ1))\n",
    "print(expect(Π[0], ket2dm(ψ1)))"
   ]
  },
  {
   "cell_type": "markdown",
   "metadata": {},
   "source": [
    "Positive operator-valued measures (POVMs) are like projection-valued measurements, but without the orthogonality constraint. A measurement made up of POVMs is sometimes confusingly called an unsharp measurement, in an analogue to mixed states. This is confusing because they are strictly more powerful than projection-valued measurements (for instance, [a POVM can extract more randomness from a qubit](https://arxiv.org/abs/1505.03837)), and you need to add noise to [make them simulable by projection-valued measures](https://arxiv.org/abs/1609.06139). Here we defined the [tetrahedron measurement](https://arxiv.org/abs/quant-ph/0702021) on a qubit:"
   ]
  },
  {
   "cell_type": "code",
   "execution_count": 12,
   "metadata": {
    "ExecuteTime": {
     "end_time": "2018-04-02T21:01:30.571087Z",
     "start_time": "2018-04-02T21:01:30.434600Z"
    }
   },
   "outputs": [
    {
     "name": "stdout",
     "output_type": "stream",
     "text": [
      "[array([-0. ,  0.5]), array([-0. ,  0.5]), array([-0. ,  0.5]), array([-0. ,  0.5])]\n",
      "True\n"
     ]
    }
   ],
   "source": [
    "b = [np.array([ 1, -1, -1])/np.sqrt(3),\n",
    "     np.array([-1, -1,  1])/np.sqrt(3),\n",
    "     np.array([ 1,  1,  1])/np.sqrt(3),\n",
    "     np.array([-1,  1, -1])/np.sqrt(3)]\n",
    "tetrahedron = [(qeye(2)+sum(bij*sigma for bij, sigma in zip(bj, [sigmax(), sigmay(), sigmaz()])))/4\n",
    "               for bj in b]\n",
    "print([effect.eigenenergies() for effect in tetrahedron])\n",
    "print(sum(tetrahedron) == qeye(2))"
   ]
  },
  {
   "cell_type": "markdown",
   "metadata": {},
   "source": [
    "The measurement will change the quantum state according to the corresponding eigenvector of the measurement. For instance, the first outcome of $\\Pi$ will yield the state $|\\psi_2\\rangle = \\frac{\\Pi_0|\\psi_1\\rangle}{\\sqrt{\\langle \\psi_1 |\\Pi_0|\\psi_1\\rangle}}$, or, equivalently, $|\\psi_2\\rangle\\langle\\psi_2| = \\frac{\\Pi_0|\\psi_1\\rangle\\langle \\psi_1|\\Pi_0}{\\operatorname{tr}[\\Pi_0|\\psi_1\\rangle\\langle \\psi_1|]}$."
   ]
  },
  {
   "cell_type": "code",
   "execution_count": 13,
   "metadata": {
    "ExecuteTime": {
     "end_time": "2018-04-02T21:01:32.774298Z",
     "start_time": "2018-04-02T21:01:32.756160Z"
    }
   },
   "outputs": [
    {
     "name": "stdout",
     "output_type": "stream",
     "text": [
      "Quantum object: dims = [[2, 2], [1, 1]], shape = (4, 1), type = ket\n",
      "Qobj data =\n",
      "[[ 1.]\n",
      " [ 0.]\n",
      " [ 0.]\n",
      " [ 0.]]\n",
      "Quantum object: dims = [[2, 2], [2, 2]], shape = (4, 4), type = oper, isherm = True\n",
      "Qobj data =\n",
      "[[ 1.  0.  0.  0.]\n",
      " [ 0.  0.  0.  0.]\n",
      " [ 0.  0.  0.  0.]\n",
      " [ 0.  0.  0.  0.]]\n"
     ]
    }
   ],
   "source": [
    "ψ2 = Π[0]*ψ1/np.sqrt(expect(Π[0], ρ1))\n",
    "print(ψ2)\n",
    "ρ2 = Π[0]*ρ1*Π[0]/expect(Π[0], ρ1)\n",
    "print(ρ2)"
   ]
  },
  {
   "cell_type": "markdown",
   "metadata": {},
   "source": [
    "The two projection operators in this measurement project to the eigenspaces in the spectral decomposition of the operator $\\sigma_z$, therefore we can also say that the observable is $\\sigma_z$."
   ]
  },
  {
   "cell_type": "code",
   "execution_count": 14,
   "metadata": {
    "ExecuteTime": {
     "end_time": "2018-04-02T21:01:36.049183Z",
     "start_time": "2018-04-02T21:01:36.007589Z"
    }
   },
   "outputs": [
    {
     "data": {
      "text/plain": [
       "True"
      ]
     },
     "execution_count": 14,
     "metadata": {},
     "output_type": "execute_result"
    }
   ],
   "source": [
    "Π == [tensor(ket2dm(sigmaz().eigenstates()[1][1]), qeye(2)), \n",
    "      tensor(ket2dm(sigmaz().eigenstates()[1][0]), qeye(2))]"
   ]
  },
  {
   "cell_type": "markdown",
   "metadata": {},
   "source": [
    "5. CPTP maps\n",
    "============"
   ]
  },
  {
   "cell_type": "markdown",
   "metadata": {},
   "source": [
    "CPTP maps give a common framework to talk about quantum operations, let those be measurements, unitary evolution, or restrictions on the Hilbert space (i.e. taking the partial trace in a subsystem). *Quantum channels*, the most generic operations on quantum states, are CPTP maps. Quantum channels are the generalization of stochastic maps to quantum states.\n",
    "\n",
    "A linear map $\\Phi$ is positive if $\\Phi(X)$ is positive semidefinite whenever $X$ is positive semidefinite. *Complete positivity* (CP) is a stronger requirement: they are maps $\\Phi(X)$ such that $\\mathbb{1}_k\\otimes\\Phi(X)$ is a positive map for any natural number $k$. To me, this looked like a weird definition until I realized that $k$ can be zero. If we take $\\Phi$ to be the transposition, it clearly is positive for $k=0$, but it becomes a partial transpose $k>0$, and may not be be positive. Here is an example applied to the maximally entangled state:"
   ]
  },
  {
   "cell_type": "code",
   "execution_count": 15,
   "metadata": {
    "ExecuteTime": {
     "end_time": "2018-04-02T21:01:39.538880Z",
     "start_time": "2018-04-02T21:01:39.517320Z"
    }
   },
   "outputs": [
    {
     "name": "stdout",
     "output_type": "stream",
     "text": [
      "[ 0.  0.  0.  1.] [ 0.  0.  0.  1.] [-0.5  0.5  0.5  0.5]\n"
     ]
    }
   ],
   "source": [
    "ρ1 = ket2dm(ψ1)\n",
    "print(ρ1.eigenenergies(), ρ1.trans().eigenenergies(),\n",
    "      (partial_transpose(ρ1, [0, 1])).eigenenergies())"
   ]
  },
  {
   "cell_type": "markdown",
   "metadata": {},
   "source": [
    "It is, however, positive for all separable states. Example:"
   ]
  },
  {
   "cell_type": "code",
   "execution_count": 16,
   "metadata": {
    "ExecuteTime": {
     "end_time": "2018-04-02T21:01:40.609046Z",
     "start_time": "2018-04-02T21:01:40.588366Z"
    }
   },
   "outputs": [
    {
     "name": "stdout",
     "output_type": "stream",
     "text": [
      "[ 0.  0.  0.  1.] [ 0.  0.  0.  1.] [ 0.  0.  0.  1.]\n"
     ]
    }
   ],
   "source": [
    "ρs = ket2dm(tensor(basis(2, 0), basis(2, 0)))\n",
    "print(ρs.eigenenergies(), ρs.trans().eigenenergies(),\n",
    "      (partial_transpose(ρs, [0, 1])).eigenenergies())"
   ]
  },
  {
   "cell_type": "markdown",
   "metadata": {},
   "source": [
    "A map $\\Phi$ is CP if and only if its Choi matrix is positive semidefinite (see [Choi's theorem](https://en.wikipedia.org/wiki/Choi's_theorem_on_completely_positive_maps)). The Choi matrix is the most straightforward way of creating a matrix of the map  $\\Phi: C^{n×n}\\rightarrow C^{m×m}$: we apply to the matrices $E_{ij}\\in C^{n×n}$ with 1 in the $ij$-th entry and 0s elsewhere. Formally, \n",
    "\n",
    "$$ C_{\\Phi }=\\left(\\operatorname {id} _{n}\\otimes \\Phi \\right)\\left(\\sum _{ij}E_{ij}\\otimes E_{ij}\\right)=\\sum _{ij}E_{ij}\\otimes \\Phi (E_{ij})\\in \\mathbb {C} ^{nm\\times nm}$$ \n",
    "\n",
    "This equivalence is called the Choi-Jamiolkowski isomorphism (Matt Leifer has a [post](http://mattleifer.info/2011/08/01/the-choi-jamiolkowski-isomorphism-youre-doing-it-wrong/) on it, and Nathan Johnston a two-part intro ([part 1](http://www.njohnston.ca/2009/10/the-equivalences-of-the-choi-jamiolkowski-isomorphism-part-i/) and [2](http://www.nathanieljohnston.com/2009/10/the-equivalences-of-the-choi-jamiolkowski-isomorphism-part-ii/)). The proof of the theorem gives the decomposition $\\Phi (X)=\\sum _{i=1}^{nm}K_{i}XK_{i}^{\\dagger}$, where we call the matrices $K_i$ Kraus operators. This decomposition is not unique. \n",
    "\n",
    "The Choi matrix looks like a quantum state. Among the many convenient features of this isomorphism, one is that entanglement-breaking channels map to separable states in the Choi matrix representation.\n",
    "\n",
    "A measurement effect is CP. For instance, if we take the effect $\\Pi_0$, we can calculate its Choi matrix and its eigenvalues:"
   ]
  },
  {
   "cell_type": "code",
   "execution_count": 17,
   "metadata": {
    "ExecuteTime": {
     "end_time": "2018-04-02T21:01:43.391441Z",
     "start_time": "2018-04-02T21:01:43.377569Z"
    }
   },
   "outputs": [
    {
     "data": {
      "text/plain": [
       "array([ 0.,  0.,  0.,  0.,  0.,  0.,  0.,  0.,  0.,  0.,  0.,  0.,  0.,\n",
       "        0.,  0.,  2.])"
      ]
     },
     "execution_count": 17,
     "metadata": {},
     "output_type": "execute_result"
    }
   ],
   "source": [
    "to_choi(Π[0]).eigenenergies()"
   ]
  },
  {
   "cell_type": "markdown",
   "metadata": {
    "ExecuteTime": {
     "end_time": "2018-03-03T07:25:50.793888Z",
     "start_time": "2018-03-03T07:25:50.750261Z"
    }
   },
   "source": [
    "A *trace-preserving* (TP) map will preserve the trace, which a measurement effect does not do. A map $\\Phi$ is trace-preserving if and only if ${\\rm tr}_2(C_\\Phi)=\\mathbb{1}_n$. \n",
    "\n",
    "The normalization constraint on the measurement effects ensures that the sum of them is a CPTP map. A quick check:"
   ]
  },
  {
   "cell_type": "code",
   "execution_count": 35,
   "metadata": {
    "ExecuteTime": {
     "end_time": "2018-04-02T21:53:28.393690Z",
     "start_time": "2018-04-02T21:53:28.350819Z"
    }
   },
   "outputs": [
    {
     "name": "stdout",
     "output_type": "stream",
     "text": [
      "[ 0.  0.  0.  0.  0.  0.  0.  0.  0.  0.  0.  0.  0.  0.  2.  2.]\n"
     ]
    },
    {
     "data": {
      "text/latex": [
       "Quantum object: dims = [[2, 2], [2, 2]], shape = (4, 4), type = oper, isherm = True\\begin{equation*}\\left(\\begin{array}{*{11}c}1.0 & 0.0 & 0.0 & 0.0\\\\0.0 & 1.0 & 0.0 & 0.0\\\\0.0 & 0.0 & 1.0 & 0.0\\\\0.0 & 0.0 & 0.0 & 1.0\\\\\\end{array}\\right)\\end{equation*}"
      ],
      "text/plain": [
       "Quantum object: dims = [[2, 2], [2, 2]], shape = (4, 4), type = oper, isherm = True\n",
       "Qobj data =\n",
       "[[ 1.  0.  0.  0.]\n",
       " [ 0.  1.  0.  0.]\n",
       " [ 0.  0.  1.  0.]\n",
       " [ 0.  0.  0.  1.]]"
      ]
     },
     "execution_count": 35,
     "metadata": {},
     "output_type": "execute_result"
    }
   ],
   "source": [
    "C_Π = to_choi(sum(to_super(Πi) for Πi in Π))\n",
    "print(C_Π.eigenenergies())\n",
    "C_Π.ptrace([0, 1])"
   ]
  },
  {
   "cell_type": "markdown",
   "metadata": {},
   "source": [
    "In this sense, CPTP maps are deterministic. The measurement outcome does not play a role in the quantum channel. A *quantum instrument* generalizes this further by taking the outcome into account. A quantum instrument is a collection of CP maps such that the sum is CPTP.\n",
    "\n",
    "Now we can write combinations of unitary evolutions and measurements in the same framework:"
   ]
  },
  {
   "cell_type": "code",
   "execution_count": 40,
   "metadata": {
    "ExecuteTime": {
     "end_time": "2018-04-02T21:57:10.982640Z",
     "start_time": "2018-04-02T21:57:10.946097Z"
    }
   },
   "outputs": [
    {
     "name": "stdout",
     "output_type": "stream",
     "text": [
      "[ 0.  0.  0.  0.  0.  0.  0.  0.  0.  0.  0.  0.  0.  0.  2.  2.]\n"
     ]
    },
    {
     "data": {
      "text/latex": [
       "Quantum object: dims = [[2, 2], [2, 2]], shape = (4, 4), type = oper, isherm = True\\begin{equation*}\\left(\\begin{array}{*{11}c}1.0 & 0.0 & 0.0 & 0.0\\\\0.0 & 1.0 & 0.0 & 0.0\\\\0.0 & 0.0 & 1.0 & 0.0\\\\0.0 & 0.0 & 0.0 & 1.0\\\\\\end{array}\\right)\\end{equation*}"
      ],
      "text/plain": [
       "Quantum object: dims = [[2, 2], [2, 2]], shape = (4, 4), type = oper, isherm = True\n",
       "Qobj data =\n",
       "[[ 1.  0.  0.  0.]\n",
       " [ 0.  1.  0.  0.]\n",
       " [ 0.  0.  1.  0.]\n",
       " [ 0.  0.  0.  1.]]"
      ]
     },
     "execution_count": 40,
     "metadata": {},
     "output_type": "execute_result"
    }
   ],
   "source": [
    "channel = sum(to_super(Πi*U) for Πi in Π)\n",
    "C_channel = to_choi(channel)\n",
    "print(C_channel.eigenenergies())\n",
    "C_channel.ptrace([0, 1])"
   ]
  },
  {
   "cell_type": "markdown",
   "metadata": {},
   "source": [
    "The partial trace operator is also CPTP, which means that we can apply a unitary (hence reversible) operation on a composite system, and then trace out part of it, resulting in irreversible dynamics. This is the basic principle of open quantum systems. CPTP maps do not depend on inputs or history, and in this sense, they are memory-less (*Markovian*). Furthermore, the spatial and temporal order of the operation is fixed *a priori*. The spatial order is defined by the tensor product structure of the Hilbert space, where the temporal order is fixed by the sequence of joining the CPTP operators together. So what if we have memory effects or we don't want to assume an *a priori* spatiotemporal structure?"
   ]
  },
  {
   "cell_type": "markdown",
   "metadata": {},
   "source": [
    "6. Process matrices\n",
    "===================\n",
    "The process matrix framework was introduced in [Oreshkov, Costa, Brukner: Quantum correlations with no causal order, Nature Communications 3, 1092, 2012](https://doi.org/10.1038/ncomms2076) and it generalizes [quantum combs](https://arxiv.org/abs/0712.1325) by not assuming a causal order. Instead of the spatial arrangement introduced by the composite Hilbert space, we define an input and an output Hilbert space associated with *quantum events*.  A quantum even $A$ is performed in a closed lab, and it is a CP map $\\mathcal{M}^{A_I\\to A_O}$ mapping from the input Hilbert space $H^{A_I}$ to the output Hilbert space $H^{A_O}$. To form a quantum instrument, a collection of such maps must sum to a CPTP map. Let's denote the transposed Choi map of $\\mathcal{M}^{A_IA_O}$ by $M^{A_IA_O}$ (the transposition happens for notational convenience). For $n$ parties, we can write a generalized Born rule in the following form: \n",
    "\n",
    "$\\operatorname{tr}\\left[W^{A^1_IA^1_O\\ldots A^n_IA^n_O}(M^{A^1_IA^1_O}\\otimes M^{A^n_IA^n_O})\\right]$,\n",
    "\n",
    "where $W^{A^1_IA^1_O\\ldots A^n_IA^n_O}$ is the process matrix mitigating the correlations. The tensor product structure in $M^{A^1_IA^1_O}\\otimes M^{A^n_IA^n_O}$ specifies spatiotemporal separation, and not necessarily spatial or temporal. For instance, it could be a series of signaling measurements at the same location. The process matrix plays the role of the density matrix in the traditional Born rule. Just like the density matrix, the process matrix is also positive.\n",
    "\n",
    "The process matrix encompasses everything that is deterministic about the system, whereas the quantum instruments are stochastic. So similarly to the case of the Born rule, a quantum instrument is a map from some $\\sigma$-algebra to CP maps, and a fixed process matrix together with the trace operator defines a probability measure on the CP maps. \n",
    "\n",
    "Take the following example that includes signaling. Bob starts with a state $\\rho^{B_1}$, measures it with some measurement $\\mathcal{M}^B$, and sends the output to Alice through a quantum channel $\\mathcal{C}$ (its corresponding Choi matrix is $C^{B_2A_1}$). Then Alice measures it with some measurement $\\mathcal{M}^A$. The corresponding process matrix is $W^{A_1A_2B_1B_2} = \\mathbb{1}^{A_2}\\otimes(C^{B_2A_1})^T\\otimes\\rho^{B_1}$ The channel is chosen to be the Hadamard gate and the initial state $|0\\rangle$."
   ]
  },
  {
   "cell_type": "code",
   "execution_count": 20,
   "metadata": {
    "ExecuteTime": {
     "end_time": "2018-03-12T11:47:31.426313Z",
     "start_time": "2018-03-12T11:47:31.398369Z"
    }
   },
   "outputs": [
    {
     "data": {
      "text/plain": [
       "array([-0.,  0.,  0.,  0.,  0.,  0.,  0.,  0.,  0.,  0.,  0.,  0.,  0.,\n",
       "        0.,  2.,  2.])"
      ]
     },
     "execution_count": 20,
     "metadata": {},
     "output_type": "execute_result"
    }
   ],
   "source": [
    "ρ_B1 = ket2dm(basis(2, 0))\n",
    "C = hadamard_transform(1)\n",
    "W = tensor(qeye(2), to_choi(C).trans(), ρ_B1)\n",
    "W.eigenenergies()"
   ]
  },
  {
   "cell_type": "markdown",
   "metadata": {},
   "source": [
    "This formalism gives a [convenient way](https://arxiv.org/abs/1512.00589) to characterize memory effects and *non-Markovian dynamics*, whereas CPTP maps are restricted to memory-less processes. Here is an example taken from the appendix of [arXiv:1801.09811](https://arxiv.org/abs/1801.09811): take an uncorrelated two-qubit state, and designate one as the environment and one as the system. Apply a swap, do some measurement on the system, then apply the swap again. No matter what you measure, you will get the original state of the system back at the end. The corresponding process matrix is $W = \\mathbb{1}\\otimes(C^{\\operatorname{swap}})^T\\otimes(C^{\\operatorname{swap}})^T\\otimes\\rho^{SE}$"
   ]
  },
  {
   "cell_type": "code",
   "execution_count": 21,
   "metadata": {
    "ExecuteTime": {
     "end_time": "2018-03-12T11:47:31.451318Z",
     "start_time": "2018-03-12T11:47:31.428092Z"
    }
   },
   "outputs": [],
   "source": [
    "ρ_SE = ket2dm(tensor(basis(2, 0), basis(2,0)))\n",
    "W = tensor(qeye(4), to_choi(swap()).trans(), to_choi(swap()).trans(), ρ_SE)"
   ]
  },
  {
   "cell_type": "markdown",
   "metadata": {},
   "source": [
    "Quantum combs define a causal order, but process tensors don't. It could be that a non-Markovian process is the probabilistic mixture of Markovian processes with different causal order, resulting in a non-causally ordered process matrix. If signaling is not allowed from A to B, we write $A\\npreceq B$. *Causally separable processes* are convex probabilistic mixtures of two possible signaling orders $qW^{A\\npreceq B}+(1-q)W^{B\\npreceq A}$. Whether a process matrix is causally separable is [easily witnessed by an SDP](https://arxiv.org/abs/1506.03776). Eventually these sets form a hierarchy, and, apart from the Markovian set, all of them are convex. Here is a cartoonish representation:"
   ]
  },
  {
   "cell_type": "markdown",
   "metadata": {},
   "source": [
    "![png image](data:image/png;base64,iVBORw0KGgoAAAANSUhEUgAAAZAAAAC5CAYAAAAGa2mGAAAABHNCSVQICAgIfAhkiAAAAAlwSFlz\n",
    "AAAIQAAACEABKLhMEgAAABl0RVh0U29mdHdhcmUAd3d3Lmlua3NjYXBlLm9yZ5vuPBoAACAASURB\n",
    "VHic7Z13lBvV2Yefre4N9wbGgI3pHUwvJpSYXkNNQoAACRj4wCT0JCQECGBI6CXUAEmA0HsJndC7\n",
    "QzHNGGNj44rbrr4/fvfmjrTaXa00o5mR7nPOHK20o9HVaOa+9+01eDzpoQ/QE+iV57EX0BvoBHQD\n",
    "OgNdzNYZ6Gr+1x1oMMfrAdTn+ZzeQE3Oaxnguzz7LgPmmb+XAvOBxcBCYBHwvdkWAQvM/74z21xg\n",
    "jnkM/j273TPh8SSA3JvE4ykX9cDAwNbPbAPM1t8872+e94xnmLExB/gGmAnMMI/TA3/b53ZbFs8w\n",
    "PdWMFyCeKOgCjACGAEOBYcBgYHjgtYFAXQePa1fo+R5nm78XIS1gCVrx59MClpjjzUdaQ77Pac55\n",
    "rRZpObk0IK0GoJH82k8387/u5nlPpE3lalBBraojNCEh8iUwDfjCPH4JTAW+Aj5F58DjCQ0vQDzF\n",
    "UIeEworASPMY/HtQAcdoRpPeN8DXuFX1DPPaDLJX29+G+g2ST1+cBmYfg5qafT7APNYWcMxpwBSz\n",
    "fZLz91QkiDyegvECxNMW/YBVzTY68DgC50fIxxLgc7Ty/RxNXFNxK+TPkfDIt/r3dJwGJESWR5re\n",
    "MKTlDUFa31Dz2NjGMZYAnwEfmG2y2T5AAtzjaYEXIB7QpLOW2UYDY8xj3zbeMw23ig2uZqcgQZFr\n",
    "AvLESx0SJLlao30+uI33fku2YHnLbNMiHK8nBXgBUl00AqvjhMXa5rF/K/vPxa1E3wf+iyaRj5A/\n",
    "wVM5dAZWQQuH4CJiNIpWy8cM4E2cQHkLeBfnY/JUOF6AVC6NwDrAhsAGZluV/GGr36GJ4G3gPZzp\n",
    "4quyjNSTdIaia2cUWoCsiRYevfPsuxRdP68A/zHbm3ihUpF4AVIZ1KEbfP2crXOefacBr5rtXSQw\n",
    "3kN5Dh5PRxgCrIaEir3mRtMyum4Z0l7tdfcs8AbeaZ96vABJJ92AjYHNzbYJLc0MzUiLCK4E30YJ\n",
    "bh5PVHRFGsqGgW00LaPE5gEvIGHyLPAS/tpMHV6ApIMBSGBshgTGBiirOkhQs3gVeA6YVcYxejyt\n",
    "0R2ZU4Pa8Riy5x+rpTwLPAY8hXwsngTjBUgy6QVsDWxnttVy/r8MmQCeDWzTyzg+j6dUBuE06M2R\n",
    "gMk1fb0LPG62p1BQhydBeAGSDOpRRNQ4s21Jdsz+QuB1JCieA54hf10mjyetdAPWxWnZW5Cd+d+E\n",
    "Fk2Pme1ZfCSgp4oZCfwSeAiV18gEtiVISJyFbqa2kvY8nkqkAQmRs5CwWEr2PbIAeBD4Bcpl8Xgq\n",
    "mjpk+z0LObYzOdvHwJXAPuSvueTxVDPdkHZ+Lrp/mml5/0wy+7SVce/xpIbewEHAbajYX/CCn21e\n",
    "Pwg5yVvjEOCEwPM9kaqfBnYDfmr+vifOgRTIvXleGwBcXe6BeNplILo3bkfm3OC9NQv4G3AgfjHm\n",
    "SRnLoQv7XtT7odRV0jXIQb6GeX4uEiKWzuQ3cXUif9JgkN5kOy67ogqyhdCFlolkPcn+XgcBx5u/\n",
    "Xy3wuKDvsxwtQz/zZUTXoHEHaWxl3+Ax6mg5/tfMY7fAa0NoKfxaO7YnHuqQqddqJ8F7bhkygR2H\n",
    "hI4nRNqbYDyFMRDYA9gLRU/Z89oEPAH8C7gP1YwqhvOA3wG757x+Lkri6gb8HbgcOAf5VxahyJaD\n",
    "UDRLkPWQIPsICYL9gQnIxNYD1bM6Hgm67YGJ5n2vmn0mAlshwfY2cCFwEZqQhwN3AFe18l2eRma6\n",
    "b1CE2V7A0YH/jwPORNnMGeBw85nnoSKMQ4D9kID5B0qCXA54GZkHf4C0niXod9nNnIsPUQDCAuAS\n",
    "4Pdo5TraHG+q+fxLkSAcBuyaM/aNgD+gcukDzft8ZFD8NOGiEQFWAsaj335L5JjfDLgAeBJdN3ej\n",
    "a9DjiYVewGHogmwi2wH+EJr4Wqsx1RGuQZP134GxOA1kFIpGAa3A3kGC5BzgWPP6bsBv8hzzKXST\n",
    "5TIAmcdeRJPyOOCPgf9bLeJZlPmey3CUOPa6eZ5PAzkUONn8fTuKPgvyR3Rec8drV48HIJPeSJQ3\n",
    "YLWU5wL79ETJbFfghMC3ZGsOXVB49EnAKea115DQxYzxSLI1kGdQhWL7PX6JJ+n0B44AHkb3ZlAz\n",
    "eRz4CdXXrCw0vAbSMeqAbZCJak+cqWMxmlzuQ7bXKFY2pwN/Rio6qKS61SyakNYwxDz/0DzORIJu\n",
    "FNJgQFErA5E5LcjFaFL9xDzmU/dt2PeJaAU/FK3I70Erug/QRN2W4LwDCd0bUAXYN3P+PwkJvaOB\n",
    "u8y4V0KageVB8zgZV/X3v6ic+fZIw3neHN/6l77AtZ4da477ODqPCwLHft88vofMIkFWAi4LPL+v\n",
    "je/pSQYzkDZ8FWritQvSTn4IbGu2y9Bi7EZkLfB1uzyhsgmavGfgVjDWPBX1CsZqIPbv15HwGolW\n",
    "5jXI5v8OmvjPAXYy+2+GJuRcHqFlcqLVGuqRIBiDTF03mNdHmc8A5zfpj2LzhwL3m9f64XJUWvOB\n",
    "XAA8gHOwB6kLPL6FzGKPm88P7jMSCbt6dA5eMp99NxIKANcjTRCcfwN0jn5o/j4Jmd/sPhuZv09H\n",
    "v21QA3nafG7uWD3poxf6fZ8g24LwDTJxbhzf0NKD10BapzewL3AMqjxqeQ+Zk25Aq/6oWYjrd/0b\n",
    "VNNqCZo8H0GqeSMy/di2rbZR0zLytzGdgG6SOejm2dcc62m0Uv8Ml7i1HFqVTcZ1BbwJCaueyEw0\n",
    "zYzpAVTB12pAS3DJXnb1D1oNvow0hVwmIg2hBtVK+g6Zii41x+iEhPmHSKBbTeZ2pHHdAvwTaSQZ\n",
    "pB1Ctq/ibhRZdaA5P9MD++yHzFf1wPnoOphv/n+M+b5zzTgm4cyInnQxBy0wrkcLoL2RWXJddL39\n",
    "El3z1wPX4ptqeQqgBq32b0YTi12VTAP+hLOPJ4lCWpm2Ru4KurVj5Xs93+q70LHsjibntsh3/OBr\n",
    "I5EzFFpWVCh0HK3t116FBq95VC7ront9Gu7+/x4tmraIcVyeBNMX2fU/INtE9SAyF/lM8PA4CLiT\n",
    "/L0kOsJQFJnl8URBA7r3HyLbxPU+CuJoq1unp0pYBZkhgqVEvkKRTr48gsfjAS1WJiLTrp0nFiGn\n",
    "+xptvM9TgdQAOyLfgS2H0ITs97vi/UIejyc/9cj8+iBu7mhGWsoO+OK0FU1X4OdIBbWriPkohG90\n",
    "jOPyeDzpY1U0d8zHzSfvodyhQqs5eFJAd1TG4CuyzVRn4e2YHo+nNHqi+eVT3PwyA80vpfr5PDHS\n",
    "F4W9zsL9sC+jME1vpvJ4PGFSj+aWl8gu6ng2FbxQrUSb3QCUxTwBV4nzOZQnka/aqqdyaEAaZzeU\n",
    "p2FXgF1Q0ckgXc0+83B5Npa5yC+2FJkoFqB8Et/Ey1MImyOn+3jzfAHKJTkPV3OtIqgkAdIX+BVK\n",
    "9rKTxYMo6/i5uAblKYpatBAYhCJgBpqtD0psXC7wdx8kNHpRWk5MoSxGyZ2zzDY753EWymb+EiUo\n",
    "TsUXXKxWNgNOxVWG+B74Cyr/MyuuQYVJJQiQ7kjb+D80iWRQDaVzyC5f4UkO3VG5kREoXNo+DkOl\n",
    "QwZSuJnxezRBL0DaxGLz3Gbl214RlmVkZ8WD7oNce3UnpKXYEvU9cVpLH/O80ITChcjvNg3Zyj9F\n",
    "VQzs31/QUgvyVA7rIUGyB7rW5qBE2ovJrsOWOtIsQBpQLZuzUCkLUFmJU+hY7wlPNNQjwTAGRayM\n",
    "No+jaLvY4ve4yTa4TaflSn82+Uu1lIueOI3Ibv2Q9jQEXZd2G0jrAmcZEiKTUZTgB4G/fcnxymEN\n",
    "4AxcCZ+ZqC7cxbiSO6kirQJkX7KT/V4Afo2KC3rKzwBUln0d87gWEhj5mmbNJXv1PSXw/HMq189Q\n",
    "i4SI1bhG5Py9AvkrHsxGVZffQMUlXzfP4xScntLYBlWz3sQ8/wQtfP8e24iqhDEoATAYd70P6RWE\n",
    "aaQvqmT7G+RjCoZH260ZCYSHUab/Uahs9uCWh/MYGpB2tjtywF6HFkbBKMJgL4t3UeHI49BE5PuA\n",
    "p49xaGFgf9enyC7c6gmJvihpZxmu5PLh+KJ2UVOHisv9AhWTsxVug9tCFB59FQpg2BzfoCdshqM+\n",
    "FqehVeqHZNdnsqU1XkDmkB+h4ANP8qlDDa++Qb/jUlRterk4B1Up1KHJ61tct7+L8Qk6UVGHOgqe\n",
    "iEKeZ9Ny5fsGKmn+E9RO1wvxeOiOqsP+H6pK/AUthftHKHz0ENRsy5Nc+iBtfSn67WYizd3fX0Wy\n",
    "BtlJOY+jNqWecFkF9T64D/knghPQHPP6KajXe/d4hugpkKGoguwF6N6xk5HdpqCmZHvjF2FJZTSq\n",
    "y2d/s9dQFJenQDoh+7rtX/wZCn/zhENXZHs9F9nRgxPMPOBRZIPfHF/GPu10Q7/1Weh3XUy2NvkK\n",
    "ug42pzw5NJ7C2QMFldimaGfh/VztMhY3qTUDV+Lt6WHQHzgMmaWCjbKWod7hp6NWrn4SqWx6ALsB\n",
    "l6PIn+DiYRoyTe6An6iSQlck4K2/6x1c5JYnQGfUl9qeqA/QqshTPMujBMuncMEHGeBrFOGzL7K7\n",
    "eqqX0SiK60HkhLfXyGwU4bU3msQ88bIFrtldE3AhLUvzVC2r4ULZliJHkr9oi6MPcpg+iutXYG3f\n",
    "k5A5wxeS9OSjK4r0uhGXvW+j7O4w//MmzfjojMxY1gz5Lsq5qlpqkPPWmlQ+ANaPdUTppCtwAHJ2\n",
    "W7+RvcDOwMeVezpOJ2Bn5HAPRuLNQLWcNsPnXsXF+qhKgRXux1CFv0V/ZI+3F+aN+AifjrI+0ips\n",
    "iHMGFfCbhDf/ecKjE04zCTZPmoyCLQbGN7SqpQu6z+1v8TBVlKS7JbLD21jnPeMdTqrog7S2YPbq\n",
    "XBTrvzWFOcE7E/1N3wmVNQGZKJO+OFiF/IlbG5d7IAmnJ/Bj4AmciXQJcCeqTuBzFsrLXrgF5FdU\n",
    "wcLxFzgzyxP4bNlCGYVWHAtwguMVlMHao8Bj9ARuQ/2bbwH+bY4bBUNwvVeuI/m22vOB7fK87oty\n",
    "ts5wpIF8irsmp+I7fZabYcCTuHDfo+IdTjR0QvZUe6FdiXfmtkctsCtKoAx2OLsQZYB3lEtQVJal\n",
    "OyqC2Bf4GXASsEHg/0HNcCekNtcDB6PEwt3N/1ZEC4MTcMUt8wmQbcmuwrsvLW2348yxD8dFmayJ\n",
    "MuODuUB7mmMejxJOQQ7efcz7xwf23QlVAT4OaXA7oonvINw1eL557zGB7wXZAmRtM45d8QSpRyau\n",
    "e3BRlPNRqPCYGMdVTdShcF+rFd5EBfVlHwq8iL7Y9yhKyNM6nVFHxY/IdogfSWnRaZ+S/6JaC5kf\n",
    "NkNa4Wg0sb8S2Od+ZPY6AfgdyhmxE/o2ZhuHfudu5BcgB6JaTiABeGfOODYC7ka5QLsjjWms+exN\n",
    "UfXSk82+k4HfovDGV1DIcm8kFDZCk9ehZt8HgKuRia8HKsGyERI0fzT7nA88Ys7BtehcgxMgW6AJ\n",
    "clPUVe54PPkYCfwJF8XVjDTerWMcUzWxP85P9Sqq8BwpUSeOrYtu8I1R4tLGyBnnaUlPNEFOQZEu\n",
    "K6LIqh+gVfaVKOqiWLqhWP9cPkI3/n5oFb9ZG8eYi37TgWhiAFVE3hhpBT2QzyMf/0Cr91qkYVyV\n",
    "8/+F6IIfhTpIzkWT/fvo+3+JE1o1SIA8gyb8XdGktQQVEuwHbBU49gUoH2Yeyu7dy3zn4D7XmM/9\n",
    "lTlGkJ8GxvE53m/XGp8gLW0Y0ub+ixITn0QJq+OpwoihMnIb8oNMQeVPXiBi83GUAmQc8DRqS/o4\n",
    "KtL3VoSfl1aWQ5PhZ2hF3Be4AU1Wu6Ccjkyr7y6cj8g/uZ+DJu8zkcDKp+V0Mo/XmP02RrWWOqEF\n",
    "wbOo49qrtK46L0Yazq5oRf9Izv/fQQKiD5pw1kQZ0Z+jiem/SAMCrWxtB78lyIyyF9KE/oCqmQbH\n",
    "Mcc8roaKD15qvkdwnyU5xwvSiH6fT1C4+UmtfEePmI+qZ6+GftP/IG3yXhQAsj++6kFUvIHm2idR\n",
    "ZNbT6L6IhKh+xL3QxdIDrTzHUyE9gEOkG7LFf4xMO12Q7XI1FOnyfsifdyYy5WyGoo4mIEHQC8X6\n",
    "98at8K3pbG20SrfF3MaiyLmr0ATeGf3Gc1BTpPYu1KtQuYw7kRAIMhppYbeiAnJD0LWzNTJZfYib\n",
    "2OuQmW8IMlU9at47z4z7oFY+vwcSZItwJi7Lj9FiZwJOu7L8w3y3D5Ag9v67wmhGZsmN0KLhPmQy\n",
    "/RvwNr6XT1R8i3x9t6L7+yFaatWJ5TicM20SfqWRSyd0jqbj/EJ/ojzx9GshX8JlyBnegFYpFyJN\n",
    "5AdISICEx1+Qg/0nyOm+FXLGX46za69pjjcRCaAVceGeoHIYwRj1t8gfs74S8i9cHXgvwPZIo7gY\n",
    "TUIgTWe8eX0H81oj0oIuNmOzN8xPyI5U+7n5XtugkGhQ0twO5jycgBMQvwy8b0fzvotp28znaZux\n",
    "OK06g0xbka2Qq5waZNWw/qjEa85n4uq1eEdjNjVoUvsUV7blSmQvrgb6IvPRZSEcy4fXpp9tkPCw\n",
    "guQhiosu9LTPSbgIrdPa2Tc2TsVNjAfEPJaksSFy0NqVwK3IjFRNDEPXRbcQjuWd2JXDLkgrDXbj\n",
    "83kk4XMwrqjqKTGPpQUn4MqDt2Z/rkaGAH/FmfSeR/Zgj8fjsG1drVn3W2Q+9L6mcNkX12TsVzGP\n",
    "5X9MwJmtfI6HqEE3xBxcjaoj8P4gj6ctuqNMdlta/k18OZmwORS3oJ0Y81g4DJlkmpCz0qPwW2vb\n",
    "XYS6K/ry9MmlO8obGWm2VVGhytY2u98IFHLcqcURPaUyGvlErFXjYpJfTy1NHIbm7GaU41Q0pYTQ\n",
    "jUNZvg2o/soVpQykAuiEHFQno4igZ5HWEXY4rqd1+iCz4VAU6TUM2dP7onyb5czffVDYdKF1xNoj\n",
    "gxIZF6Fw9VnIDGP/no4KiH4ReCwlKbRaOBBFxg1A+UBHoTnHUzpHoYCWpSjC8IliDlKsABmDVtm9\n",
    "UeLWr4s8TqWwGnAzytKeg6LRLqVlroOnNBpR8MEqSAtYMfA4gvxJjHYiDz5+hybwuWjSn49ySGxy\n",
    "ohUIuQQ7OHZCmmUvlA/TDYUv98YJqn7m73xtmeegjOFPch4no0g9f+2I3igU9XA0X92EcoDmxzmo\n",
    "CuGPaME7F4Wmv9PRAxQjQPqjFPmVUILVflTvxV6LfEDnoEnkfnShT4tzUBVALbAyEshroAXL6uia\n",
    "C3bFm4Em3k/QpPsV8jd9bR6noxVW3HRGmlFQOxpOtgAMCpmFKGnxfVQH7R2UXDm1fENOHNsB16Pz\n",
    "9hGKKnox1hGlnxpUmdumF2yC7pnIaETCw0YUVUzFxyIYiquUOx8lqPms2uJYBQVgTEJl5ufi8gMW\n",
    "ozDP25Fmtw9KcgzL/JQU+qEIvUNRZdV70ERpHZ4ZdHM/iJJB90CZ89VEbzTh2ZDfs/A9SEqlC67Y\n",
    "7bNE3Lb4AlyP7f7t7FvJbIm0jAzwMnL6eQqjHlW1PQmVubChm9Zs9CSyex+EtI5qD+XsgvKIjkR+\n",
    "xpdwbaAzSMjciGzaq1Mdi5h9cI2UnqL6BGnYDES13jJo8RIJOyJT1VJcuYtqowYl4SxD5+I8/ATX\n",
    "HrWoltaJyMRn61U1IdPMVah0iS0j72mfenROf4GSUu3Nn0Hmu78hU+pKcQ2wDAzHrZy/oHrnpLDY\n",
    "CBUSbUIljUJlIG7FfXI7+1YqPdGK2a6U92h796qmN0pauhH4BpeB/yZwEco+7tPquz3FMBRFLV2L\n",
    "LARBDWUSmhQqLeS4EdUns6bOX7a9u6cdbDWR6YTYY70GZ+t/iOpMhhuKnJgZ5NhsredFNTMMFYl8\n",
    "ApftOg1NaPtS3SbPOBiJtJB/4rS+eagS8sEoeqxSOADXSOlqIrbjVzC1uEKXjxKSReBw3GRQjoqx\n",
    "SWMjnPZ1J+HUcqoUlkdFM5/HFWv7D3JuboA3SSWFTqiq8cWofYBNcr0XOe17xze00Fgb5YpkUKBB\n",
    "vtBpT/sMwvklS04O74tCJTNoFVlt7AksQN//fKpT+8qlC3JiPooTGu8ioVFtBSLTyuro93qfbGGy\n",
    "D+levQ9BHVBtGZTh8Q4ntRyAzuFMSrQc3GAO9HAIg0obByFTzDLUnrOaqQG2RcmSVqC+gyKplo9x\n",
    "XJ7SWQcFg0zF2b8vIr2l1bvhfJWf4Rc1xWJNWdcUe4At0QpzIZUdzZGPX+C++84xjyVOlkMmqg/Q\n",
    "xfQNcsiuH+egPJFQh5pq3YKu+wzKyTmA9Dnf61DTswxKLk2rMIyTlVG4eDOueVzB1KDeuhnkma8m\n",
    "TsYlB46LeSxxsQZwHZpImlFuxv4o6sVT+fQGjkWmyQwyY/+eECNzykANLm9tFr6NQjGcgc7fK3TQ\n",
    "n7mneePnpG/1UQoT0feeTXXGlY9DDshmFKp8EapO66letkR5JUtQqOx1aIGRFs7GCZG1Yx5L2uiM\n",
    "SgJlgF0LfVNQ+zgqmnElkiPQxDkbJWlVCzUop8WGKX+Okv58FIsnyHC0op+D7pP7SE+vDpvfMA2Z\n",
    "ZjyF80t07l6jQC1kL6pP+9gTOcsXAFvEPJZyUYO+t10svI0S0dIcheOJnp6ot70NbX8AFeFLOufi\n",
    "5rUVYh5LmuiEMv0zwG6FvKHatI9xSDVfjMq1VAM74H7nt1D4pg9R9nSELqgS9VfoOrqfZJu2alDZ\n",
    "HBt2Xgm5L+XiGJwW0iZjcZEL1aB9rIJso01UR57L2sAjuIz6vfCCw1MaVpDMQFr8NahyQxKpA+7A\n",
    "VdXwlXwLoxOqsZahHbPltWan35dhUHHTA+UyVEOk2QD02zahC+Hn+CKQnnDpieaNhcgUfAZywiaN\n",
    "zqiicQZVffYUxnnonF3Z2g7dUR+GZio/+aYWqdwZ1GeiUktu1KGcltkopvu3+N7SnmgZhhKQm1Eh\n",
    "xx/GO5y8DMWZ3krqCV5FjEK/6TxamUNszasnyziouLBRGa9TubWtNkTfL4MiZkZG9DlDgN+gSePX\n",
    "SNuJipvN4y6oE2YUTCDcRMldkY+p2tgM52e7GwmWJLE+0pYW4cN7C+UZ9Hv+ON8/nzT/PKiMA4qD\n",
    "jVFM+3eolWil0Rn1qV+K2lQWHL9dBEORGXBnJEh2QZVei6EQLfBV8/gTwivdnfu5F1BY5m2hWutP\n",
    "qd5SOPUoIXEOut8OI1na/lG4CMQkmtuSxo9xlXqz6IYk8TIqu09Dd2AyOgkHxjyWKNgYeA+pmn8h\n",
    "enPV+ahTXi79gH+hUuJP4GLv7we6mr8nALujgp2PolXq/UiD2dA8/ycKE7XfI1eAbA/8LvC5d9HS\n",
    "gbs78DSuFSxIqN6OHKpHoCz7Z1BzpkdwAuS3qLXsoziN5y+oTMY/0cr1nMA+NhBjLKpQfIvZr1oF\n",
    "iGV55LS2zuskFTm0dbMuiXsgKaAPkhGLyLHc7IJO4nMxDKqcXIe+5w1xDyRkalAvjiWomdB2Zfrc\n",
    "+8ifA2BXmQPR5HyRef5v3IV3Cppwd0CtWmtz3l+HtJqzcGWlcwVIHSqz0Ijqtd2fZxzvBz7zflQ8\n",
    "cG9Umh/zue+gSJMa1Bd6a2SCudbsU4ccrzXA9Ti7+Rao/4Td52Wzz9M4k81VeAFisa1ovyM6E2RH\n",
    "6YcKSTaja9HTNjYAYSdwN61tYfhIHCMqE1shFewz5FiuFAagVfrFwG3AmqgBWDn4lvzx9COQSXQi\n",
    "quI7pI1jPIVycF5Cq8Au6Ld6GGkp67Tx/ia0gtwD+BluMrcsh0pSLzDP/4PrX/+6eeyHItMWoxvj\n",
    "DfP6msC6SEv5m/muPXLeuwaypdt9ZiJtqQ8qARHc1wN/R7/n2+havRGnkcbFTLQgqUHaZZd4h5N4\n",
    "bGX2LGFrq61Wav2nRlxhuCh9AuVmS1R+ey7x+K52RxO4DQmuQ+aqY5C9G5Rrcrv5+z5c+ffryM69\n",
    "qUUhgnuaxw3N62cDp5m/8/lABgGPoSSn3NDkWqSB2CKQ/zDH3RsXul2HNBCbE/A40kC2M2PM5Xqc\n",
    "03Uc+ctdP4fro3AJXgPJpR6Z/pqQgE2CL/IWND/8Nu6BJJzNcHlk1KPWlqNRRMLL8Y0rUk5EbWjv\n",
    "RvbqSuBopHV8gCbpD2MYw93o2nkWaXZDULz4k8BNyCcTTEi9Bq1CP8B1t9wJOTNnokixs1AAwBUo\n",
    "S743TnDk42ukHbyA7LNBmpHf4xGUMPoN0kKCpSya0CT/KArttMLmcWTavdccvxGVNg/ymNnnHnP8\n",
    "BuRbO9O8Zr/n5DbGX40sQwL8CaSJvIxMWk/EOKYT0LV4MvKFvR/jWJLMSyglYDRGI7fZ56/EOKgo\n",
    "GYBil+dTGc2PGpCpJoNW1EnJ61gu53kD+UOku9Cy3lZnZEoK0pXCqyE8RtuO2dbGkjuufMmVjbRf\n",
    "9iLfPg34yJ5CGIG0kKUoYitObFTWvTGPI+nY9ICNQKaGSnQsWy5C3+/suAcSAt2RDbIZOJ1khUTG\n",
    "QSPy/4QV0uuJh65IE8kAfyK+8jp1KIqxks35YXAzgZ7pfzJPJsY5oogYgkxzs0l/ePJApCUupqUp\n",
    "xeNJOzXIfGk167i0t/1oJdfB8z9+jc7ReeBKeuwS54giwra1/HXcAymR5VFZiDmUL0TX44mD45Bf\n",
    "6mHiiYiqxWXQbx3D56eB3QiY+mxc74ZtvSOF9EXahw2tTCvDgY/R91g35rF4POXgR8gn8gjxCJE9\n",
    "0JxYKQE3YbMJOj/Pg6INMlRe61Lb2/yPcQ+kBIYjzWMmip/3eKqF/YlPiNQCnyBNKAkhxkljNVxf\n",
    "FaaaJ20le6WNSrgA+iLh7oWHp1rZH4X83kX5e3dUwgI0Koahc/MFKAktQ7rNPLnsRLrD8bqg2kwL\n",
    "gU1jHovHEyc2SrTVPhQRETSBN7azb7XRE/0mc0BqYobKajD0V/Sddo95HMVQi+o0LaUyAxs8no5y\n",
    "Frqff1Xmz73VfO7OZf7cpFOPzstSkBTJIKlSCTSgzOF5pLOuzZno98hX/qLvvQAAIABJREFU5dZT\n",
    "HD2Q428fFEGyMb6Vb9qwHTXL2aBqT3QvXtvejlVGL3ReZoPsWBmS1/ClWHZE3+dvcQ+kCLZHNt/L\n",
    "4x5IyumPInmuR76wZnRNBLf/IDOFJx00ILPubFx7gKjpiipYzKSyLDSlsjy6hz4DV2RwTJwjCpHL\n",
    "0PdJWxe4FVA9pRcpvISHx7Ea6sP9ClqpBoXFfFRv6Xq0sPgG7yBNI8NQ7bM3KF+i4T/QtbJVmT4v\n",
    "DayBa8TFC+bJxnGOKETeQSvO3NpMSaYWFSCcRbKa7SSdNVGJGrsIstv3KBHtRLNPrrnqXLPfg2Ub\n",
    "qScstkULhPPL9HlHomvltPZ2rCI2RefkWVDnuAyy96Wd3ujieifugXSQE9BvsH/cA0kBo5GfyOYv\n",
    "2W0WCp4YT/u+rz+Y9zzczn6eZHIRus+3LsNn2dW2X2w49kbn5C5wq7HT4xxRSOxMPCF/pbAKWjHf\n",
    "FvdAEszywEmorHtQaMxEJeJ3pGWF37a41rz/5nCH6SkTXVDRw4+JPlCmBgXlzKH8uShJ5Sx0/5wD\n",
    "cAjpdTrnYiOYfhzzODrC/Wgi9A7dbAagRkzPkO0En4M62e1Ex4RGkPtwlV896WRTdF2cWYbPeoDK\n",
    "8hOXyh3ofBwIsIF58macIwqJm0iXP2c8Gu9RcQ8kIXRB0VMPomg0KzQWImfmXoTjPLV+v1Pb2zGF\n",
    "NKJOj1cgk94E1LWxErkBXRsjIv6cC6ncgrPF8A46H+uCGu00AYtIf/SPnRhymxMlkXrUqe51vGoM\n",
    "0ii+omW47acouupAZI8OI3/jOSqjSnOQWuB4XIRZcJsH/Dy+oUXGYKSR3hrx5xyDzuOEiD8nDXRG\n",
    "LSWaCPSzfxOdoG1iGlRYfINJr08B1nS4Q3s7Vgmn0HLiy7d9h/xFpTT8eZBAP4MKYCWcUMyg/vDH\n",
    "Aoeivhb29d/ENcAIOQNNZlGal2xu2aURfkZaGIe7xv7HeebFP8QxopDoTHpMcXWoX/aLcQ8kQQxG\n",
    "vSAm5mynABegVeZHuMmwGd3QxSR4XWCO8VSpg04AO6EINBuJdkiefc7Anbeflm9oZaEXSi6MMiBi\n",
    "NL68u+V88siKvFIlZfRH3+HfcQ+kAGzXs3KWZagUVgAuxiULnlvEMXYw711MuvKFgtQgH449D88D\n",
    "Q9vY/1Kz31x0DiuJs5HPbKWIjj8YnbsnIjp+mniLPM22OqFs3WbS63BbEX2xB+IeSAE8gTSQau9p\n",
    "XgpHo997CR2/ZjujjOa0ZqP3RDH4Vqu4gvYrxnbC9fuutJyGfsiHG5UFpQc6by9HdPy0MAjJiPnk\n",
    "8Zfb0Ma0RgTZhJ+/xz2QdlgJ/QgnxD2QlFOH4vMzSKPrKEfhKoqmqU3w2mjxkUGT5s868N5NcRrL\n",
    "weEPLVZuQz7QKAKBatE9+14Ex04Tv0TXzt35/rm/+ecr5RxRiKyPxn9L3ANph3NR4qDP+ygdu6I+\n",
    "uoj31uAWTXORGTfJ1KAb+Hs05s8pLlzdmrK+oHz1pMrBNuh77RXR8RehwpzVzOu0cY4bgRkE4ntT\n",
    "xhg09jvjHkg7TMaUAPCURB2uFUGxk0Y3lKhoTWGnU3xyYpSsjMquWJPVXRTvu+mPwnozSCBVCjVI\n",
    "KEaxgLT9L96O4NhpwS7QZ9KGlncx6Q1XG47G/kjcA2kDa2b7cczjqATG4qKxBpdwnM4oIc1Ozu+h\n",
    "RmRJ8E91RmUjrNYxn+K0rVxs+aKppLNnTmtchsK8w+4g2AcXqFCt2CrnF7S1k53gZpG+FrfLkfwf\n",
    "+VcoWiQNiY5J5zr0e78Q0vH2Ar7ECZL3UQJZHFFaPVAlYdurx9qdw4qe6odrZV1JyXE2ui5sc2Qa\n",
    "FqdR0gOFSmdQ24Q2edrsWO72kaVSjybnyXEPpA0eRI2MPKWxArJJ/68eT0h0AU4GpuEm7iWoXtnP\n",
    "UFHHKFkRFaizeR0Z5DAfH8Fn/d4c/yuSabYrBpslfXbIx10Hnas7Qj5uWjiVDoQxb4uzdfWIcFBR\n",
    "MAVdQEksDWKrel4S90AqgJtxWkIUneIagQOAx8iuyWUn9GuQQFmzxM+vBzZEN+gLZBeNfBlpRVG1\n",
    "3h2A7pUM6Wu+1hYvEn6Z/r0oPuco7fTERTtuVeibniKdWogt2zAi5nHkY1U0tgPiHkjKGYebaHct\n",
    "w+cNRHWk7kL29dzSKouR3+SfqLrviShEdhczVrvtg7LEz0Tmt5dwvg27LUBVsbctw/fCfFYGCcpK\n",
    "4SL0O4UpeCei83R4iMdMC6ej7/54R95kQ+JmIgmUFq5A405iXP+eaGyrxz2QFNMDFVeMK9quHoXO\n",
    "Houiff5LSw2lI1sT0mguB/ag/H7HrXCBCKPK/NlRcSj6TmF29rzKHDPttQI7Sm+cOXWLfDu0pn4/\n",
    "ibSQrZE98fjwxxYJ75vHtemgxCwDI9EPMSXugaSYK5H/YybxJLwuQ5rDS4HXOqHJdzTq2T3IbF3N\n",
    "1gn5URYgR+Q04DNU1+sNFFIbF08j7Wk11Lr1xBjHEhb2/loRBSGEwVrmMcn+1Sj4LYpAewyFu3eI\n",
    "NdGFvwxYL9xxRcZGaJL+Z9wDycNfUNikpzhs6ZJmfF+GMDkeF9KbhNDlUhlGuKHyXZCZstqSCDdA\n",
    "c/9StCAvClu19D8k0zGdSwNa6X0d90DycCe+lk6xbI6LuqpGR2aUjMCZ1DaKdyihUItMg2H1etka\n",
    "nZsbQzpeGqhFWnbJ91tXpBJmUEx8GngSjXfluAeSwyP4ap7FsAoyWVlnbxRRV9XOu+j8Tox7ICEx\n",
    "D9OvOwRsCGslNuRqjePQd/6MEPxyu+PqBSVtUs6HjRpIWoLUc8C9cQ8iZfRFjuoMmuR6xzuciuVq\n",
    "0lEGqFC+BiaFdCzb5XR0SMdLOqNwpW5CMxXfhiu0GHaZgLBZHY21w06fiHkF9fX2FEYj0tgyqEZb\n",
    "GhYvaeUEdJ7T0IytEKaggItSGYp8btVSA6sT6gmVIeSaYt1RBEIGNZhPOu8jO+iQuAcS4FmU0exp\n",
    "n3qU9WtzIyrBNp9kDsZV6K0EpqN8kFI5Fp2Xs0I4VhqwlZo/IoL0jQ1QNEIzsFvYBw+Z36ETcWzc\n",
    "AwnwMJXRQjVq6nEa71KUH+GJliNxE0clsACFoJbKs+i8FB2FlCJ+iOb2JRTXJqAgTsQlGCbZpDAG\n",
    "nYx3SU5o4j+AV+MeRMKpw2VHL6W4RlFhMYDSakS11V42aVyDzvl9cQ8kBOrRvX9KicdZi8oy67XF\n",
    "KFzC4HFRflAN8C/zQZNJdj/px9E4y1UWoj0moY5pnvz0QBVnMyj+fP8SjnU08A6uVHkXZMfuSCTh\n",
    "bZSWnf2vEt5bTkahFXsGOCzmsYSBbW19UInHudIc54iSR5Rs+gIf4oIoIl9wd0X5DBng30TTQjIM\n",
    "bOmQpCQVTkDjSVNpmLDojCJ9Pkb25NyLdBSuu+AiStc8TkVF9X5knv/IPD/NPB+E6mhtj8tvGohy\n",
    "IjZBbQ2CAmRVXCXezYGd0H2A2d/WXapBfUrA+W26ms/ZFWX1gjSb9VB1gl2Jr3XCTiiBMIOy4iuh\n",
    "Ku926PtsWsIxeqPeK7NR07FKJRio8ipl/K5DUEvNDDI5JMVMFKQejXEpyajzswvVY0/N5RKya0Bd\n",
    "hCbuPshWbVfAXxCOw/xUJLBt7+a7zXMrQI5DjuNTUWVfkMbzOjLTjsUJkL3N311Rw7WLzfufQxPu\n",
    "ZTgtd3NkDgLXGno8KrtyOAoJ7Y4096moTNCJlLfPRE9U1PE53O/xJuHWjoqTn6HvVEqTsV+TnoCh\n",
    "YqlByZG2CsGwcg9gHVxTmt+X+8MLxDaBT0Kf9BFoLD+NeRzlZgRyzGWAe3CT1hwUKWef34e0gDA4\n",
    "FZWyuAU5BG8xz60A6YcEyEko5LMWCZA/BY5xG4pK+TMSdo1IS7JcDvzAHP8G89rVuKJzVoA0oqCT\n",
    "41Htqa2RAHktcKyXia5sO2hFfSg6xzaj3+Z2nU3yQ/M7whUoCqtYeqHy5d9TOUI1H3/AXQNrtbNv\n",
    "q5Ry0b6BbrqlqOz7WSUcKyquRBPE/sS/8v8UJThtEvM4ys2JaKX+AYqo2tv83R1pHo+gcufjKe3G\n",
    "z8dNwO3m0VILPIBKfj+BhJs13eT6qFZBZrcm5Ef5LvC/mWiyeQkVI+yPzFLP5hzjcmT+egZdi7bH\n",
    "zqzAPsuIJsN+DeBadN39FUXaNCDT81HI0X8mOgeVwlhkriyWE5GAv4LKCWvO5WwUZGADVd6KczB7\n",
    "mYFkcCu8JHEYGttdcQ8EjaFakpJAQsL20MgtBdGZ6OqrWQ2kDpk06nAaSA9k761Hi4pFyI+3P9ml\n",
    "PG5D2ceTcHWV/oPMWt2Q1mD9IqegbpOnB95vNZBnkMm3J7pRd0ETVLAHx/OEqwV0RWZD2zelGQnL\n",
    "owhPy0siPZAwLraPUX+kGc+ncs/TmbhAlR+1s2/Z2AcnRMIqYhYW9WjFm0E9k+PkOHQzV7JqHORw\n",
    "nLmqnN0t90SmoiBbm9dBE+ldwBnI/NqAnK7B/KYJODv6Keb/o5HP5E6yyzwMRYmPwZa3tgjdZigi\n",
    "6woUHbY+EqxnBPb9HeFpICNx13sT8smsGtKxk44NnCnWgX4dyTbJl8r/4YRHmK2gQ+FgnE07aUJk\n",
    "HBrXh2jlGxcrkK7ClKXyPPq+l8c9kCqhPyqAZwvhbRXvcMrODchcV4xpfnO0uPuc+KLiouQMnPBI\n",
    "bFfUH+OEyKVE6xjsKDZB7eyYx/EGar1b6ayCM6GMbWdfTzjcic73l1SPlmupR36pq4t87xvo3CW9\n",
    "ykZHqUORglZ4HBzvcNpnd2Ahzu/Qpe3dy8ZgZI9fRAlRByFwGvohK/0GPxun9SUxzLvS2BwXXTUu\n",
    "5rHEwa4Ub6a2foF7Qh1R/HRCQSQ2v2qfeIdTOJvgejg8j7Idk4CNEX+X+ATbYOQvOjOmzy8HNSh6\n",
    "KUNlf88kcSs639Wg3ebjAWS262hgxlh0P86mshZ1fVDYeAZF/OXtaZ5k1kCqdAaVlUhK7SxbqO8v\n",
    "MY7hbhQiWKnNkexquBlYKeaxVAP1uJysxDlHy8AIiutC2B3XbyYxEUkhsAquSdjnKMw8lQxHwsNK\n",
    "wR3jHQ6gEMov0Jh2j2kMO5jPT7w9skhsHaHcnAhPNKyHM1+VkoGdVi5FiX+DOvi+W9A5uz70EcXH\n",
    "zkibyqCw8bJnmIdNd1SJ1q5IzyV+5/rWyA8xBzWgioOX0OonDb3mO0Jn3AV8ZMxjqRb2wzXeqjYG\n",
    "IZ/rJR18n60s/l8qI+qqBuUx2SCme1Cia0WQxC9nL6ApKPyx3Iyn8lRnUKa5ddr1aWdfTzjYjoKv\n",
    "xz2QGLgYXWsdWWnvgBaQc5GpPe10B/5OshbpkfBD3Or0fWDdeIfzv17Q/6b89YBqUDbzJyQnUi0M\n",
    "bLn/pFRBrgZORef8ubgHUmZWQU3uLu3Ae1ZFc1ATIfb8jpH1cImjs1CF5YpmFCrnkUE//onEF+bZ\n",
    "iItUuInyS+2xaMVwRns7poT+uMKJlRZPn2RsGOq/4x5ImbkfTZr9Ctx/KLI4ZFAhzTRTgzLLF+PK\n",
    "8SclUClyOqMaQzbR7DHi6+A2ENdQZVIMn38DKiq4YgyfHTbH4TpWVlKF16RTjSYsm/dRaFWHfrie\n",
    "M1dGNagyMQCFLVuT1ZW4/jRVxXhUATVjHneNaRzDcSUgzirzZw9Gq6gnSb/d8lXiE8TVzE9x5Uuq\n",
    "AdtP5VUKC0LpiQphZlC2fpoDV3bFzZnTUdRVVTMA9SmwYYh3EI9TezUUxZIBTi7zZx9oPvf4Mn9u\n",
    "mKyO+w3j9m1VGzYsfCmVm1sU5G/Icb5mAfv2QKa9DKqYnFbNuA8uPN4mjA6JdUQJogaZP+bjwhFL\n",
    "7WlcDBvinPzlrpl1BwpHLOSmSCIX4JJGPeVlFdzEUgmm0Lb4EYX7MPqgcPkM8nWm1cxzEG5xOx81\n",
    "yvPlgfIwAngYdzM8iCrYlpN1cSrinynfD9UXmSD+izrIpYlGVAU1g4IiPOWlAedMreQonDWAecDj\n",
    "tG/uHYArkPgE6cz1GILqCdr58Cm0WPC0QQ3wE+QXsC0XT8B1jSsHqwNf4Rxu5TILrIO0kHtJlz/E\n",
    "JrItRjeup/y8hn6DU+MeSET0QKH/n9O+iXuE2TeDygZ1inRk4dOAFmK2PM23qCWxpwMMxDV9txmj\n",
    "5XQYrYza0FpNqGeZPtcWfExTU5vH0ZhvjXsgVYzNaarE/JsG4CFUrmTDdvbdCKcN30p5F55hsB2u\n",
    "/FMGLSbjilCtCMbR8oSWq0DfIJTsl0G5K+Uyp00yn3lUmT6vFEbhwrG3jncoVY3t/jiNyrKP16Ba\n",
    "Vc20XyhyTxQSbyMB06TFr4T8oHEtmCuaRuQ0syrd98A5lKdNajecHfIrVKo+ampRaYJlxFfwsVCs\n",
    "sHuPypq40kbQkR5Xfbco+B36ThPb2KcGtR1uQpFoh5dhXGHRA1kbFqHvOQeZr9KmOaWCQcgnYWtq\n",
    "zUQXVtRtamuBP+Hs/L+I+PNA3+lpdGEl1THaGyfUfx7zWDyuyvSxcQ8kJH6Fvk9bhRJ74RZ4c4Af\n",
    "lGFcYdAIHIEztzUjk31HKwp7imBjVCrcrrg+Re10o04QOhAXanwr0k6ipCfwAhJaSazb8384QZ7W\n",
    "EMlKwuYJPBXzOMLgJPRdrqV1U9QYXHb5+6RD86pDQUI2cTkDPIN8N54yMw4XfWIvon2I1pSyFq4J\n",
    "zTtEf9FaIbKIZAmRetxNcE7MY/GIbdHv0UTxSWYbo8TeJ4GRIY2ro5yOvsc1tC48DsP5O24m+sVc\n",
    "GIwD3sTNV++QojazlUoN+hFsPasM+pEOITqNpAfO4fU9MqNF6bDriTSupahsRRLYF2fS8xmxyaAO\n",
    "1wX0zCLe+3vkd7P30UWhjq59alFlXRs+n++e6o1r37uUtn0jSaAGLfxsMI61mBxBukuqVByNqLCa\n",
    "zd+wEv5AovuhDsGZtB4j2u5fnXA1/8+N8HMK5RmcsP4NahX8IvCKee0Z4HbUr+FQqqhSaMycgquT\n",
    "VGibgG6oR08mZxsXxQBboRHXbvpc8lsRtscJyPdQKfOkUo/mHtta1gbhHI13kCeaRjSxBzWSKahU\n",
    "ShTO9tG4Qm2ziLZNbR1wlfms64k+eKAtgivVQrdpaPU4nuqo2RQHywHfUXhh0AFkr47tdndE48vH\n",
    "INTLZBn5Q9d7ApchR3MzcqontYdOA5p/JuPO5Wdo/knqmD15aEDmHuuvyKAolZMJv1NeAwo3tJPq\n",
    "I0RrP55oPutF4kkysr0IPkQO298B+yP7+Zoopn0sCkE+EWlOQc3QrpAvRtn3nnCx5d3bq602kOwV\n",
    "st0mU75yOhshrWIO+X18u+O0jqkkN8qqD5pbPif7PP4Er3Gkmlp0Yb6C+2G/RyFzYTvA18at5hai\n",
    "FWBU1T93QoUfvwK2jOgzwmZl4Ne4MhN2ux8fhRImDWhxkUFCPt8ioz/ZCbrBBLZyLUp+hu7FyahT\n",
    "YJDBuEoUNsS1b5nG1RFWRrlQ1pRtk44PwWvZFcfmKJPdZk43o7LIuxBe5FY9Wp3bCJE3gW1COnYu\n",
    "q6BJYBlymqbJKbcxcDmaQOyN94B53VM6w3Fa32dk+zP6AW/RUng8iSbuqOmF83fcY55bGpHWOgcX\n",
    "WblFGcbUUXLnkgwKdAlzLvEklNVQlIed5K1T7jhkQw6DFXFdwzLAP4im1HYXnF/kaTRxpIkhaAUX\n",
    "FCT/onzlaiqZlcg24b4L/JWWZqsFKHS2HAuQjYGPUfTe8WRPtj/E+Q6+Rxp8kgohLgdMIFuDXgBc\n",
    "gXJSPFVGLyQ0gkk9i1CI7jjCWUmMJ/umiKoEyx7Iif8dChFM2ypoMPKJWEHyPYruijNQICy6IF/E\n",
    "5qi+0f7oN/oFcABqCLUh0TRS64quuZm01Di+RRUWBkbwubk0IN/dEhTUEiwJNAYVLI16sVUs69Ny\n",
    "wTkNCbgkmtU8ZaYBFWJ7CFcmxarPJ1D6RdKABJWNjrElWMKOylgB10/lQdKnjYCCD/6F+w0+ADaN\n",
    "dUSFU4f8YAcDf0DmmY/Ivqba2z4GbkICJkxH9iBcqZNv0QKpXDb6jZDW04yiqewCank0MS/F3W87\n",
    "lmlM7dEP3ftBbaMJWRX2wPs3PK0wAkUVTSVbK/kniggpRaUeiG6gJbiosCMIN0qjBjknv0N25Amk\n",
    "82LfGacZNqGVcpLMGZZ1UGDAQ7i6YLnbYuSregKFx96ImpVdZP6+D3get8Cw20Jkcio1Uq03Lrhj\n",
    "FlpRl4NeyDy5DAlG6wscjBIGbROsqcCRxO/D64SEw5244oYZFAX2W8rf3M6TYuqRwHiA7BXkt8j5\n",
    "uznFm4lGoonDHvdDFHIcZsTWcFyRuTfReNNGT2Rfto7K11H5+LhZE7XwDYZs2u1D1LP7NKTVjqZw\n",
    "AV6Luu4diYSN/d5N6Dz0K2KsA4FXzXG+o/1+GmFQg5LovkLaxYUoWXEwOm/WFDQT1byKMz+iBt0b\n",
    "V+Ca2GWQ0LsP2I10LsA8CWIoiqyyLTLt9gmy0xfrQFsdTfJ2ovgcVVINszDhzsiM0oxMI8uHeOxy\n",
    "8QNc1dJ5KEQyDrZFkUrBa2Aqaua0N+FXUl0FBUjYhcY0M4ZCWRn99nayLkeo9AYoNygD/BsJ25Fo\n",
    "0WVX9XOR/6BcTdryMQZpFZ+Q/Xu+jkxXvjyPJxJWQxd/7oX3MVLXi1npr4PKftiJYjoqZR1WwmNn\n",
    "FGUzDzmnzyN9fdcHoZBre75voHx9rvuS3exnHlqxbkp5ghXWxy1ellFY/adN0HWUQbWXcvMswmYk\n",
    "0ryakcnnEFR49Cacj2MmcAbhRTp2lNXRvRvMCbMmqknAujGNy1OF1KLV4HXIrBW8ICejyJeO1uoZ\n",
    "SXZI6yJk6morm7gjDEIT31I05pMp3yQcBrXI32AnpPeIvmLsUFwU3WJUcDCOyJsuuLa1GXTd5fMJ\n",
    "1eKinaz5MsrV9FBUWmQx8rmdhsJxgzkS09HE3Sv/ISJlffSbBcOZrTC7GtiKdHUu9FQgDSgU8yrg\n",
    "G1pqJheiXseF+jiGI1vxbHMMm/C4K+Fc7GNwprMZqABfmgTJZrjyFtOJLvmwBtd35nO0oo6bCbiS\n",
    "OS+RvbjYGlfkMoPKnEfVtXMocoR/jxY6V6Jk1imBz38HdQcsZ/BDI4owu4iWVoLpaAG1Pd6v4Uko\n",
    "tciMNYnsSC6bdHQvirwqpFxEZ2QKeJtsdftcwomTX4dsQXIGxTlq42AozqyzEEXPhM1WOCf22hEc\n",
    "v1h2wGm9y5AmZgVqBmkCUfmJRuH8Gd8j0+vNuFIeTYRf3aE9+qOWDjfSMpJthnl9F3xNKk/KsMLk\n",
    "XFqWjmhCoZVnInt1WyGMNciRfA9u9bkMRYjtSek3xtqo4GETmowvJxnRTu3RA5eA1oSaDIWJ7bj4\n",
    "WsjHDYNBqOHSPNw19Q0yFUXhY9gChSA3oYXQMzgHvY1OvJDyVBCoR8U6z0b+jGA5EWu2+wPSVL15\n",
    "ylMxDEQrwztomTMwH63cJiK7bWurt6HIIR40FUxH5oSxbbyvEFYyx5mPJor7kD07yTdhPWp7aoXq\n",
    "niEe+2icEzqpmf11yCQ5IIJjd0Xh5bZdwWyUWGfzN5pRuPEBRF8xYCTS3O8gO9zWaqCPomTdNEYZ\n",
    "ejwdpguanP9Cdu+AYHjojUjg5GtUVYtsubeTnfT0MUqEXK2EsS2HosBsIt+nyHkddphqWNTiutQt\n",
    "omOhrm2xPE7jK2dzpbgZg8rKWB/ct2RfY1PRCj/KJmHDUSOym2jZCiCDKhT8GVWl9n02PFXPIGTH\n",
    "vRJXciK4fYVWX8chDSWoFfRGK8XHyG709BbKUym2c1stmjjvMMddhlZ6h5C8HtQNOHPWN4RXV8qW\n",
    "VXmXyp6oeqMV/vNIs1hGttCYjTS97YgmY3wkuq6uJH+PkunoOjwCnxHu8bRJDcpInoCc7rmOQRuG\n",
    "+C+UyTsWF+ky2LzvJbJtw1NQZMpWFDcBrIhszjayZTaKOtu2yONFQQ+kLWVQTkIYrIA7/9eRXFNW\n",
    "MXRFi5b7cKHRwaoLC9CkXWoJn1w6oRyak5FfLzcMPoPO+b1owbRGiJ/t8VQdtSgJ6ghk1soNT8yg\n",
    "CeBd8//jkPPe2o3vxeUFZJDj1UaDdbTgYg1yqF6Nm1hteGRUq9OOsAPue4ZV82k/nDA+O6RjxkU3\n",
    "YF9Uu8teE8GFxiwkNA4hnBDgOnTtHoIiE58lu3R/UMO+F+cDTLLfzeNJPSOAg9DE/Tb5e5TPQz1C\n",
    "LkAFFk9BkTTzcvZ7E/gjivTqiGmqEwqPvAFnL5+J7Nb7E37r4EJ5yYzlghCPORF3viaEeNxysDzy\n",
    "ab1O/utkCvLFlVqhtw7V/toPnfunaXmt2WCHt1G030F4k5THEzvdkdZxHNJCbPns3Jt3sfnf/cif\n",
    "8WHOfstQaOQkZN4otORJIwoKuBqX/7IUTSK/Qsl+5dJOfmM+/4mQj3sRzszzo5CPHSZd0SR+N/nN\n",
    "Q4vJjvgrhl7oejsCp1kE27rm0y7OQguOuBYWHo+nA/RHxRTPRDdwsHFW7vYtSkabk/P6UrSivwRV\n",
    "WC0k8qYGOe5PN++1q97vkN/mWJTEGJVAmWQ+78GQj1uDyqtnkPlnu5CPXyy90ER+Pyo6mbtwaEJa\n",
    "5vmo30ZHggH6IUHxM/P+B8gf5GG3z9C1dia69qJokuVJCJXkEPQURh9UkmNN87g2clK2VgG4iZYT\n",
    "/WzgRbO9gSanz9r5zK2Rw31bXIjxfCRgngdeQPkGMzvyZfKwpjled+AY1H8lTOpRv4hdkC9qDWTT\n",
    "LxcNSHCNR4lyK9OyDE0zqv30IPA4Svqb28YxOyOT6MoohHc0Kr64Kq3X/VqANNk3UbTf2+bv7zr4\n",
    "fTwpxgsQD8hhuRISKKsGttEU7khdhGzp7yDB8ixKOpuXZ9/BKApnMxRBth6uTtgXKPP7NWSzfxun\n",
    "ObVHZ2SSG4Ym0ctRSK9trvVdzt9zkDDsKEPRd21AeQgPFXGMQlgeCYut0Tlagfy/x1w0iT+MTIav\n",
    "ouQ6S60Z80gUTWc3+3wwrc8Fc1Ge0mT0e042n/UxOseeKsYLEE/SWYaHAAACGElEQVR7DEOCZDRu\n",
    "dboSmtwKcbguQZP112jSmYxWqq8jwbAITfwboElyPVRWe7XA8RegxLH3Ud2nyWj1/wktV9b3otV5\n",
    "RwgKlYXm8+aYv6120RvdLyuiqKIuyLy3OhJaxdITmfM2NY9jUGRcL/JHIs1D3/sl4BF0HmtQxd3h\n",
    "SBgMRwLDvjaItsvdLEXFIj9B5/kDdI4/QP4sjycvXoB4iqUeCZfganZNJGCGUnh132Voop6DzFcz\n",
    "0GQ2DZnPeiE7/DDzGcPJnlhn4ITJNHOMnjg/QA0SUL3NsXrn2Trqi1mGhODptO1n6Yw0udVQc6iV\n",
    "kRYx2HynHm189lIk0GYg4TvdfKce5r39UPmSQoMcvkZa0xR0rqYEti/QufZ4OoQXIJ6o6IwEyTCk\n",
    "UayOCjQOQ6VSulN8yOhSsy3DmVEakBks30q7Gflb5iGT1XykWcxGGlKTOV4DLpGuzoyvm3l/jXmt\n",
    "EQm8Tmgy72726WZe62z2qaP9+yuYuFdLcUEFS5Dg/BJFO00N/P2lef4V0vQ8nlDxAsQTJzVIsFjf\n",
    "y0i0Oh+IHO89kXO/WpLKmnF+mTlI+5iBtKqZyJ/zTeD5DBQ95/HEghcgnjTQC5lrljPbECRoBqEw\n",
    "0d5I2FgtoBtOI8nVBmpoqaXYbGwC+zUHHoPZ2kuQ5tMUeFxotiVoQl+IhMAypPUsRVrPYvM/63OZ\n",
    "ax7t3/kCDjyexPL/zM5PCN8Avh8AAAAASUVORK5CYII=)"
   ]
  },
  {
   "cell_type": "markdown",
   "metadata": {},
   "source": [
    "All of this formalism is device-dependent: it assumes quantum mechanics and particular forms of processes. If we move to a device-independent setting studying only correlations and violations of inequalities, for instance, causal inequalities bounding causal correlations, then we often end up with convex polytopes."
   ]
  },
  {
   "cell_type": "markdown",
   "metadata": {},
   "source": [
    "Acknowledgements\n",
    "========\n",
    "I thank Peter Bruza, Fabio Costa, Christina Giarmatzi, Sally Shrapnel, Jansen Zhikuan Zhao, and Alejandro Pozas-Kerstjens for discussions."
   ]
  }
 ],
 "metadata": {
  "kernelspec": {
   "display_name": "Python 3",
   "language": "python",
   "name": "python3"
  },
  "language_info": {
   "codemirror_mode": {
    "name": "ipython",
    "version": 3
   },
   "file_extension": ".py",
   "mimetype": "text/x-python",
   "name": "python",
   "nbconvert_exporter": "python",
   "pygments_lexer": "ipython3",
   "version": "3.6.4"
  },
  "toc": {
   "nav_menu": {
    "height": "133px",
    "width": "252px"
   },
   "navigate_menu": true,
   "number_sections": true,
   "sideBar": true,
   "threshold": 4,
   "toc_cell": false,
   "toc_section_display": "block",
   "toc_window_display": false
  },
  "varInspector": {
   "cols": {
    "lenName": 16,
    "lenType": 16,
    "lenVar": 40
   },
   "kernels_config": {
    "python": {
     "delete_cmd_postfix": "",
     "delete_cmd_prefix": "del ",
     "library": "var_list.py",
     "varRefreshCmd": "print(var_dic_list())"
    },
    "r": {
     "delete_cmd_postfix": ") ",
     "delete_cmd_prefix": "rm(",
     "library": "var_list.r",
     "varRefreshCmd": "cat(var_dic_list()) "
    }
   },
   "types_to_exclude": [
    "module",
    "function",
    "builtin_function_or_method",
    "instance",
    "_Feature"
   ],
   "window_display": false
  }
 },
 "nbformat": 4,
 "nbformat_minor": 2
}
